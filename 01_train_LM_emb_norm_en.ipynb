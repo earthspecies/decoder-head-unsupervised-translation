{
 "cells": [
  {
   "cell_type": "code",
   "execution_count": 1,
   "metadata": {},
   "outputs": [],
   "source": [
    "from nbdev.showdoc import *"
   ]
  },
  {
   "cell_type": "code",
   "execution_count": 2,
   "metadata": {},
   "outputs": [],
   "source": [
    "#default_exp core"
   ]
  },
  {
   "cell_type": "code",
   "execution_count": 3,
   "metadata": {},
   "outputs": [],
   "source": [
    "#export\n",
    "from fastai2.text.all import *"
   ]
  },
  {
   "cell_type": "markdown",
   "metadata": {},
   "source": [
    "The data is seperated into two folders, `train` and `valid`."
   ]
  },
  {
   "cell_type": "code",
   "execution_count": 4,
   "metadata": {},
   "outputs": [
    {
     "name": "stdout",
     "output_type": "stream",
     "text": [
      "\u001b[0m\u001b[01;34mtrain\u001b[0m/  \u001b[01;34mvalid\u001b[0m/\r\n"
     ]
    }
   ],
   "source": [
    "ls data/en-100"
   ]
  },
  {
   "cell_type": "markdown",
   "metadata": {},
   "source": [
    "The issue is that all of the data, in each folder, lives in just a single file. We want to run the tokenization in parallel and as such it would be best to split the files."
   ]
  },
  {
   "cell_type": "code",
   "execution_count": 5,
   "metadata": {},
   "outputs": [],
   "source": [
    "#export\n",
    "def split_file_into_chunks(path, num_chunks=24):\n",
    "    txt = Path(path).read().split('\\n')\n",
    "    chunk_len = len(txt) // num_chunks\n",
    "    \n",
    "    for i in range(num_chunks):\n",
    "        with open(Path(path).parent / f'{i}.txt', \"w\") as text_file:\n",
    "            text_file.write('\\n'.join(txt[i*chunk_len:(i+1)*chunk_len]))"
   ]
  },
  {
   "cell_type": "code",
   "execution_count": 6,
   "metadata": {},
   "outputs": [],
   "source": [
    "# split_file_into_chunks('data/en-100/train/en.wiki.train.tokens')\n",
    "# split_file_into_chunks('data/en-100/valid/en.wiki.valid.tokens')"
   ]
  },
  {
   "cell_type": "code",
   "execution_count": 7,
   "metadata": {},
   "outputs": [],
   "source": [
    "# !rm data/en-100/train/*.txt\n",
    "# !rm data/en-100/valid/*.txt"
   ]
  },
  {
   "cell_type": "code",
   "execution_count": 8,
   "metadata": {},
   "outputs": [
    {
     "name": "stdout",
     "output_type": "stream",
     "text": [
      "0.txt   13.txt  17.txt  20.txt  2.txt  6.txt  en.wiki.train.tokens\r\n",
      "10.txt  14.txt  18.txt  21.txt  3.txt  7.txt\r\n",
      "11.txt  15.txt  19.txt  22.txt  4.txt  8.txt\r\n",
      "12.txt  16.txt  1.txt   23.txt  5.txt  9.txt\r\n"
     ]
    }
   ],
   "source": [
    "ls data/en-100/train"
   ]
  },
  {
   "cell_type": "markdown",
   "metadata": {},
   "source": [
    "To tokenize the text, we can use the very handy `tokenize_folder` function."
   ]
  },
  {
   "cell_type": "code",
   "execution_count": 9,
   "metadata": {},
   "outputs": [],
   "source": [
    "# tokenize_folder('data/en-100/', folders=['train', 'valid'])"
   ]
  },
  {
   "cell_type": "markdown",
   "metadata": {},
   "source": [
    "The tokenized text now lives in a new folder."
   ]
  },
  {
   "cell_type": "code",
   "execution_count": 10,
   "metadata": {},
   "outputs": [
    {
     "name": "stdout",
     "output_type": "stream",
     "text": [
      "counter.pkl  \u001b[0m\u001b[01;34mmodels\u001b[0m/  \u001b[01;34mtrain\u001b[0m/  \u001b[01;34mvalid\u001b[0m/\r\n"
     ]
    }
   ],
   "source": [
    "ls data/en-100_tok/"
   ]
  },
  {
   "cell_type": "markdown",
   "metadata": {},
   "source": [
    "To have control over the vocabulary our LM will use, we can use `make_vocab` "
   ]
  },
  {
   "cell_type": "code",
   "execution_count": 11,
   "metadata": {},
   "outputs": [],
   "source": [
    "vocab = make_vocab(pd.read_pickle('data/en-100_tok/counter.pkl'), max_vocab=4000)"
   ]
  },
  {
   "cell_type": "code",
   "execution_count": 12,
   "metadata": {},
   "outputs": [],
   "source": [
    "# path = 'data/en-100_tok/'\n",
    "# mult = 4\n",
    "# bs = 80\n",
    "# seq_len = 70\n",
    "\n",
    "# lm = DataBlock(blocks=(TextBlock(get_tokenizer(), vocab=vocab, is_lm=True, seq_len=seq_len),),\n",
    "#                 get_x=read_tokenized_file,\n",
    "#                 get_items=partial(get_text_files, folders=['train', 'valid']),\n",
    "#                 splitter=splitter)\n",
    "\n",
    "# dbunch_lm = lm.databunch(path, path=path, bs=bs, seq_len=seq_len)"
   ]
  },
  {
   "cell_type": "code",
   "execution_count": 13,
   "metadata": {},
   "outputs": [],
   "source": [
    "path = 'data/en-100_tok/'\n",
    "mult = 4\n",
    "bs = 80\n",
    "seq_len = 70\n",
    "\n",
    "lm = DataBlock(blocks=(TextBlock(vocab=vocab, is_lm=True),),\n",
    "                get_x=read_tokenized_file,\n",
    "                get_items=partial(get_text_files, folders=['train', 'valid']),\n",
    "                splitter=FuncSplitter(lambda itm: itm.parent.name == 'valid'))\n",
    "\n",
    "dbunch_lm = lm.databunch(path, path=path, bs=bs, seq_len=seq_len)"
   ]
  },
  {
   "cell_type": "markdown",
   "metadata": {},
   "source": [
    "If we go for a vocab of 4k, how many unknowns will we get?"
   ]
  },
  {
   "cell_type": "code",
   "execution_count": 14,
   "metadata": {},
   "outputs": [
    {
     "data": {
      "text/plain": [
       "tensor(0.1373)"
      ]
     },
     "execution_count": 14,
     "metadata": {},
     "output_type": "execute_result"
    }
   ],
   "source": [
    "torch.mean((torch.cat([tup[0] for tup in dbunch_lm.valid_ds]) == 0).float())"
   ]
  },
  {
   "cell_type": "markdown",
   "metadata": {},
   "source": [
    "This is stunning, the fact that just 4k tokens cover so much vocabulary! Since the initial intent is exploratory, a 4k vocab will be a great starting point. This should allow us to experiment with all of the architectures we have in our arsenal without worrying too much about memory footprint.\n",
    "\n",
    "Let's start with training a basic architecture with a permutation matrix between the embeddings and the model. This setup will allow us to experiment whether the model will be able to learn the mapping of words to embeddings should we wipe it out. Also, what happens if we replace the English embeddings with embeddings from a different language? Is there enough structure in the embedding space for the LM to be able to map foreign language embeddings to their English counterparts?\n",
    "\n",
    "We replace the encoder with our `PermuteEmgedding` layer. "
   ]
  },
  {
   "cell_type": "code",
   "execution_count": 15,
   "metadata": {},
   "outputs": [],
   "source": [
    "#export\n",
    "class PermuteEmbedding(nn.Module):\n",
    "    def __init__(self, num_embeddings, embedding_dim, padding_idx):\n",
    "        super().__init__()\n",
    "        \n",
    "        self.num_embeddings = num_embeddings\n",
    "        self.embedding_dim = embedding_dim\n",
    "        self.padding_idx = padding_idx\n",
    "        \n",
    "        # to conform to nn.Embedding api\n",
    "        self.max_norm=None\n",
    "        self.norm_type=2.0\n",
    "        self.scale_grad_by_freq=False\n",
    "        self.sparse = False\n",
    "\n",
    "        self.weight = nn.Parameter( torch.Tensor(num_embeddings, embedding_dim) )\n",
    "        nn.init.kaiming_uniform_(self.weight)\n",
    "        self.p = nn.Parameter( torch.eye(self.num_embeddings) )\n",
    "        self.p.requires_grad = False\n",
    "        \n",
    "        self.reset_parameters()\n",
    "        \n",
    "    def forward(self, words):\n",
    "        return F.embedding(words, self.p @ self.normalized_weight())\n",
    "    \n",
    "    def normalized_weight(self):\n",
    "        w1 = self.weight / self.weight.norm(dim=1).unsqueeze(1)\n",
    "        w2 = w1 - w1.mean(0)\n",
    "        w3 = w2 / w2.norm(dim=1).unsqueeze(1)\n",
    "        return w3\n",
    "        \n",
    "    def reset_parameters(self): pass"
   ]
  },
  {
   "cell_type": "markdown",
   "metadata": {},
   "source": [
    "Time to modify the `AWD_LSTM` architecture."
   ]
  },
  {
   "cell_type": "code",
   "execution_count": 16,
   "metadata": {},
   "outputs": [],
   "source": [
    "#export\n",
    "class pAWD_LSTM(AWD_LSTM):\n",
    "    def __init__(self, vocab_sz, emb_sz, n_hid, n_layers, pad_token=1, hidden_p=0.2, input_p=0.6, embed_p=0.1,\n",
    "                 weight_p=0.5, bidir=False, packed=False):\n",
    "        store_attr(self, 'emb_sz,n_hid,n_layers,pad_token,packed')\n",
    "        self.bs = 1\n",
    "        self.n_dir = 2 if bidir else 1\n",
    "#         self.encoder = nn.Embedding(vocab_sz, emb_sz, padding_idx=pad_token)\n",
    "        self.encoder = PermuteEmbedding(vocab_sz, emb_sz, padding_idx=pad_token)\n",
    "    \n",
    "#         self.encoder_dp = EmbeddingDropout(self.encoder, embed_p)\n",
    "        self.encoder_dp = self.encoder # chosing to initally train without embedding dropout\n",
    "        self.rnns = nn.ModuleList([self._one_rnn(emb_sz if l == 0 else n_hid, (n_hid if l != n_layers - 1 else emb_sz)//self.n_dir,\n",
    "                                                 bidir, weight_p, l) for l in range(n_layers)])\n",
    "        self.encoder.weight.data.uniform_(-self.initrange, self.initrange)\n",
    "        self.input_dp = RNNDropout(input_p)\n",
    "        self.hidden_dps = nn.ModuleList([RNNDropout(hidden_p) for l in range(n_layers)])"
   ]
  },
  {
   "cell_type": "markdown",
   "metadata": {},
   "source": [
    "Adding our architecture to `_model_meta` so that we can nicely interface with the `fastai v2` machinery."
   ]
  },
  {
   "cell_type": "code",
   "execution_count": 17,
   "metadata": {},
   "outputs": [],
   "source": [
    "#export\n",
    "import fastai2\n",
    "fastai2.text.models.core._model_meta[pAWD_LSTM] = fastai2.text.models.core._model_meta[AWD_LSTM]"
   ]
  },
  {
   "cell_type": "code",
   "execution_count": 18,
   "metadata": {},
   "outputs": [],
   "source": [
    "#export\n",
    "\n",
    "# TODO: add gradient clipping of 0.12 at some point\n",
    "\n",
    "def opt(params, lr):\n",
    "    return Adam(params, lr, mom=0.8, sqr_mom=0.99)\n",
    "\n",
    "drops = np.array([0.25, 0.1, 0.2, 0.02, 0.15])\n",
    "\n",
    "config = dict(\n",
    "    emb_sz=100,\n",
    "    n_hid=1150,\n",
    "    n_layers=3,\n",
    "    input_p=drops[0],\n",
    "    hidden_p=drops[1],\n",
    "    weight_p=drops[2],\n",
    "    embed_p=drops[3])\n",
    "\n",
    "awd_lstm_lm_config.update(config)"
   ]
  },
  {
   "cell_type": "code",
   "execution_count": 19,
   "metadata": {},
   "outputs": [],
   "source": [
    "learn = language_model_learner(\n",
    "    dbunch_lm,\n",
    "    pAWD_LSTM,\n",
    "    opt_func=opt,\n",
    "    pretrained=False,\n",
    "    config=awd_lstm_lm_config,\n",
    "    drop_mult=0.1,\n",
    "    metrics=[accuracy]\n",
    ")"
   ]
  },
  {
   "cell_type": "code",
   "execution_count": 20,
   "metadata": {},
   "outputs": [],
   "source": [
    "memo = torch.zeros(1, 100).cuda()\n",
    "with torch.no_grad():\n",
    "    for i in range(4008):\n",
    "        memo += learn.model[0].encoder.forward(torch.tensor([i]).cuda())"
   ]
  },
  {
   "cell_type": "code",
   "execution_count": 21,
   "metadata": {},
   "outputs": [
    {
     "data": {
      "text/plain": [
       "tensor([[-0.0592, -0.0548, -0.0128,  0.0012,  0.0567,  0.0440,  0.0167,  0.0917,\n",
       "         -0.0495, -0.0604,  0.0753,  0.0603,  0.0137, -0.0775, -0.0873, -0.0143,\n",
       "         -0.0306,  0.0401, -0.0763,  0.0660,  0.0260,  0.0734,  0.1016,  0.0023,\n",
       "         -0.0015,  0.0377, -0.1225, -0.0463, -0.0124, -0.0463, -0.0207, -0.0401,\n",
       "          0.0616, -0.0650, -0.1162,  0.0745, -0.1009,  0.0513,  0.0310,  0.0809,\n",
       "          0.0740, -0.0335, -0.1250,  0.0520,  0.0374, -0.0259, -0.0640,  0.0268,\n",
       "         -0.0066,  0.0173,  0.0250,  0.0955, -0.0418, -0.0036, -0.0660, -0.0660,\n",
       "         -0.0650, -0.0465,  0.0452,  0.0384, -0.0338, -0.0418, -0.0027, -0.0462,\n",
       "         -0.0760, -0.0304, -0.1016, -0.0448, -0.0648,  0.0150, -0.0211, -0.0596,\n",
       "          0.0154, -0.0769,  0.0292, -0.0076,  0.0083,  0.0702, -0.0949,  0.1116,\n",
       "         -0.0218,  0.0634,  0.1166, -0.0486, -0.0233,  0.0046, -0.0414, -0.0531,\n",
       "          0.1226, -0.0203, -0.0185, -0.0868, -0.0439, -0.0792,  0.0773, -0.0919,\n",
       "          0.1015, -0.0119,  0.0487,  0.1043]], device='cuda:0')"
      ]
     },
     "execution_count": 21,
     "metadata": {},
     "output_type": "execute_result"
    }
   ],
   "source": [
    "memo"
   ]
  },
  {
   "cell_type": "code",
   "execution_count": 23,
   "metadata": {},
   "outputs": [
    {
     "data": {
      "text/plain": [
       "tensor([1.0000, 1.0000, 1.0000,  ..., 1.0000, 1.0000, 1.0000], device='cuda:0',\n",
       "       grad_fn=<NormBackward3>)"
      ]
     },
     "execution_count": 23,
     "metadata": {},
     "output_type": "execute_result"
    }
   ],
   "source": [
    "learn.model[0].encoder.normalized_weight().norm(dim=1)"
   ]
  },
  {
   "cell_type": "code",
   "execution_count": 205,
   "metadata": {},
   "outputs": [
    {
     "data": {
      "text/html": [
       "<table border=\"1\" class=\"dataframe\">\n",
       "  <thead>\n",
       "    <tr style=\"text-align: left;\">\n",
       "      <th>epoch</th>\n",
       "      <th>train_loss</th>\n",
       "      <th>valid_loss</th>\n",
       "      <th>accuracy</th>\n",
       "      <th>time</th>\n",
       "    </tr>\n",
       "  </thead>\n",
       "  <tbody>\n",
       "    <tr>\n",
       "      <td>0</td>\n",
       "      <td>2.941210</td>\n",
       "      <td>2.865633</td>\n",
       "      <td>0.421373</td>\n",
       "      <td>47:55</td>\n",
       "    </tr>\n",
       "  </tbody>\n",
       "</table>"
      ],
      "text/plain": [
       "<IPython.core.display.HTML object>"
      ]
     },
     "metadata": {},
     "output_type": "display_data"
    }
   ],
   "source": [
    "learn.fit_one_cycle(1, 5e-3,  moms=(0.8, 0.7, 0.8), wd=1e-7)"
   ]
  },
  {
   "cell_type": "code",
   "execution_count": 206,
   "metadata": {},
   "outputs": [],
   "source": [
    "# learn.save('emb_norm_rows_columns')"
   ]
  },
  {
   "cell_type": "code",
   "execution_count": 12,
   "metadata": {},
   "outputs": [
    {
     "data": {
      "text/plain": [
       "<fastai2.text.learner.LMLearner at 0x7f9930934ad0>"
      ]
     },
     "execution_count": 12,
     "metadata": {},
     "output_type": "execute_result"
    }
   ],
   "source": [
    "learn.load('emb_norm_rows_columns')"
   ]
  },
  {
   "cell_type": "code",
   "execution_count": 15,
   "metadata": {},
   "outputs": [
    {
     "name": "stdout",
     "output_type": "stream",
     "text": [
      "█\r"
     ]
    },
    {
     "data": {
      "text/plain": [
       "\"The man did she , he is an assistant ( James Grand border ) , Jackson 's sister\""
      ]
     },
     "execution_count": 15,
     "metadata": {},
     "output_type": "execute_result"
    }
   ],
   "source": [
    "learn.predict('The man', n_words=20)"
   ]
  },
  {
   "cell_type": "code",
   "execution_count": 14,
   "metadata": {},
   "outputs": [
    {
     "data": {
      "text/plain": [
       "tensor([1.0000, 1.0000, 1.0000,  ..., 1.0000, 1.0000, 1.0000],\n",
       "       grad_fn=<NormBackward3>)"
      ]
     },
     "execution_count": 14,
     "metadata": {},
     "output_type": "execute_result"
    }
   ],
   "source": [
    "learn.model[0].encoder.normalized_weight().norm(dim=1)"
   ]
  },
  {
   "cell_type": "markdown",
   "metadata": {},
   "source": [
    "Now that we have a trained LM, let's wipe the mapping from words to embeddings and see if we can recover it.\n",
    "\n",
    "We will freeze the model and only train the part mapping from word idx to embedding (or, in other words, performing a linear combination of embeddings and ideally assigning the largest weight to the correct embedding for a given word idx)."
   ]
  },
  {
   "cell_type": "code",
   "execution_count": 24,
   "metadata": {},
   "outputs": [],
   "source": [
    "#export\n",
    "import warnings\n",
    "\n",
    "@patch_to(LMLearner)\n",
    "def optimize_permutation(self):\n",
    "    with warnings.catch_warnings():\n",
    "        warnings.simplefilter(\"ignore\")\n",
    "        self.freeze_to(4)\n",
    "    self.model[0].encoder.p.requires_grad = True\n",
    "    \n",
    "@patch_to(LMLearner)\n",
    "def optimize_model(self):\n",
    "    self.unfreeze()\n",
    "    self.model[0].encoder.p.requires_grad = False"
   ]
  },
  {
   "cell_type": "code",
   "execution_count": 24,
   "metadata": {},
   "outputs": [],
   "source": [
    "learn.optimize_permutation()"
   ]
  },
  {
   "cell_type": "code",
   "execution_count": 25,
   "metadata": {},
   "outputs": [
    {
     "data": {
      "text/plain": [
       "True"
      ]
     },
     "execution_count": 25,
     "metadata": {},
     "output_type": "execute_result"
    }
   ],
   "source": [
    "learn.model[0].encoder.p.requires_grad"
   ]
  },
  {
   "cell_type": "code",
   "execution_count": 26,
   "metadata": {},
   "outputs": [
    {
     "data": {
      "text/plain": [
       "False"
      ]
     },
     "execution_count": 26,
     "metadata": {},
     "output_type": "execute_result"
    }
   ],
   "source": [
    "learn.model[0].encoder.weight.requires_grad"
   ]
  },
  {
   "cell_type": "code",
   "execution_count": 25,
   "metadata": {},
   "outputs": [],
   "source": [
    "#export\n",
    "def aza_loss(learn, input=None, target=None, scaling_factor=5/2000, debug=False):\n",
    "    p = learn.model[0].encoder.p\n",
    "    sums_to_one = (1-p.abs().sum(dim=0)).abs().sum() + (1-p.abs().sum(dim=1)).abs().sum()\n",
    "    the_model = CrossEntropyLossFlat()(input, target)\n",
    "    if debug: return sums_to_one, the_model\n",
    "    else:     return scaling_factor * sums_to_one + (1 - scaling_factor) * the_model"
   ]
  },
  {
   "cell_type": "code",
   "execution_count": 28,
   "metadata": {},
   "outputs": [
    {
     "data": {
      "text/plain": [
       "Parameter containing:\n",
       "tensor([[1., 0., 0.,  ..., 0., 0., 0.],\n",
       "        [0., 1., 0.,  ..., 0., 0., 0.],\n",
       "        [0., 0., 1.,  ..., 0., 0., 0.],\n",
       "        ...,\n",
       "        [0., 0., 0.,  ..., 1., 0., 0.],\n",
       "        [0., 0., 0.,  ..., 0., 1., 0.],\n",
       "        [0., 0., 0.,  ..., 0., 0., 1.]], device='cuda:0', requires_grad=True)"
      ]
     },
     "execution_count": 28,
     "metadata": {},
     "output_type": "execute_result"
    }
   ],
   "source": [
    "learn.model[0].encoder.p"
   ]
  },
  {
   "cell_type": "code",
   "execution_count": 29,
   "metadata": {},
   "outputs": [
    {
     "data": {
      "text/html": [],
      "text/plain": [
       "<IPython.core.display.HTML object>"
      ]
     },
     "metadata": {},
     "output_type": "display_data"
    }
   ],
   "source": [
    "preds, targs = learn.get_preds()"
   ]
  },
  {
   "cell_type": "code",
   "execution_count": 30,
   "metadata": {},
   "outputs": [
    {
     "data": {
      "text/plain": [
       "tensor(7.9983, device='cuda:0', grad_fn=<AddBackward0>)"
      ]
     },
     "execution_count": 30,
     "metadata": {},
     "output_type": "execute_result"
    }
   ],
   "source": [
    "aza_loss(learn, preds, targs)"
   ]
  },
  {
   "cell_type": "code",
   "execution_count": 31,
   "metadata": {},
   "outputs": [
    {
     "data": {
      "text/plain": [
       "Parameter containing:\n",
       "tensor([[ 0.0178, -0.0625, -0.0385,  ..., -0.0029, -0.0068,  0.0113],\n",
       "        [ 0.0288, -0.0374, -0.0034,  ..., -0.0094, -0.0013,  0.0105],\n",
       "        [ 0.0066,  0.0123,  0.0200,  ..., -0.0008,  0.0029,  0.0247],\n",
       "        ...,\n",
       "        [ 0.0548, -0.0110, -0.0193,  ...,  0.0268, -0.0096, -0.0010],\n",
       "        [ 0.0491,  0.0062, -0.0130,  ..., -0.0337, -0.0101,  0.0118],\n",
       "        [ 0.0076, -0.0153, -0.0023,  ...,  0.0299, -0.0123, -0.0132]],\n",
       "       device='cuda:0', requires_grad=True)"
      ]
     },
     "execution_count": 31,
     "metadata": {},
     "output_type": "execute_result"
    }
   ],
   "source": [
    "nn.init.kaiming_normal_(learn.model[0].encoder.p)"
   ]
  },
  {
   "cell_type": "code",
   "execution_count": 32,
   "metadata": {},
   "outputs": [
    {
     "data": {
      "text/html": [],
      "text/plain": [
       "<IPython.core.display.HTML object>"
      ]
     },
     "metadata": {},
     "output_type": "display_data"
    }
   ],
   "source": [
    "preds, targs = learn.get_preds()"
   ]
  },
  {
   "cell_type": "code",
   "execution_count": 33,
   "metadata": {},
   "outputs": [
    {
     "data": {
      "text/plain": [
       "(tensor(564641.3750, device='cuda:0', grad_fn=<AddBackward0>), tensor(8.2417))"
      ]
     },
     "execution_count": 33,
     "metadata": {},
     "output_type": "execute_result"
    }
   ],
   "source": [
    "aza_loss(learn, preds, targs, debug=True)"
   ]
  },
  {
   "cell_type": "code",
   "execution_count": 34,
   "metadata": {},
   "outputs": [],
   "source": [
    "learn.loss_func = lambda preds, targs: aza_loss(learn, preds, targs)"
   ]
  },
  {
   "cell_type": "code",
   "execution_count": 35,
   "metadata": {},
   "outputs": [
    {
     "data": {
      "text/html": [
       "<table border=\"1\" class=\"dataframe\">\n",
       "  <thead>\n",
       "    <tr style=\"text-align: left;\">\n",
       "      <th>epoch</th>\n",
       "      <th>train_loss</th>\n",
       "      <th>valid_loss</th>\n",
       "      <th>accuracy</th>\n",
       "      <th>time</th>\n",
       "    </tr>\n",
       "  </thead>\n",
       "  <tbody>\n",
       "    <tr>\n",
       "      <td>0</td>\n",
       "      <td>3.116314</td>\n",
       "      <td>3.041922</td>\n",
       "      <td>0.396984</td>\n",
       "      <td>41:13</td>\n",
       "    </tr>\n",
       "  </tbody>\n",
       "</table>"
      ],
      "text/plain": [
       "<IPython.core.display.HTML object>"
      ]
     },
     "metadata": {},
     "output_type": "display_data"
    }
   ],
   "source": [
    "learn.fit_one_cycle(1, 1e-3,  moms=(0.8, 0.7, 0.8), wd=1e-7)"
   ]
  },
  {
   "cell_type": "code",
   "execution_count": 36,
   "metadata": {},
   "outputs": [],
   "source": [
    "learn.save('pLSTM_norm_rows_en_permute_embeddings')"
   ]
  },
  {
   "cell_type": "code",
   "execution_count": 37,
   "metadata": {},
   "outputs": [
    {
     "data": {
      "text/plain": [
       "<fastai2.text.learner.LMLearner at 0x7fcbb2fdbf90>"
      ]
     },
     "execution_count": 37,
     "metadata": {},
     "output_type": "execute_result"
    }
   ],
   "source": [
    "learn.load('pLSTM_norm_rows_en_permute_embeddings')"
   ]
  },
  {
   "cell_type": "code",
   "execution_count": 38,
   "metadata": {},
   "outputs": [],
   "source": [
    "#export\n",
    "@patch_to(LMLearner)\n",
    "def hitInTopN(self, n=1, how_many=None):\n",
    "    data = self.model[0].encoder.p.data.argsort(descending=True)[10:10+how_many, :n]\n",
    "    hits = torch.any(data == torch.arange(10, how_many+10).reshape(-1,1).cuda(), -1)\n",
    "    return hits.float().mean().item()"
   ]
  },
  {
   "cell_type": "code",
   "execution_count": 39,
   "metadata": {},
   "outputs": [
    {
     "data": {
      "text/plain": [
       "(0.949999988079071, 0.9899999499320984)"
      ]
     },
     "execution_count": 39,
     "metadata": {},
     "output_type": "execute_result"
    }
   ],
   "source": [
    "learn.hitInTopN(1, 100), learn.hitInTopN(5, 100)"
   ]
  },
  {
   "cell_type": "code",
   "execution_count": 40,
   "metadata": {},
   "outputs": [],
   "source": [
    "acc1 = [(x, learn.hitInTopN(1, x)) for x in range(50,1500,200)]\n",
    "acc2 = [(x, learn.hitInTopN(2, x)) for x in range(50,1500,200)]\n",
    "acc3 = [(x, learn.hitInTopN(3, x)) for x in range(50,1500,200)]\n",
    "acc5 = [(x, learn.hitInTopN(5, x)) for x in range(50,1500,200)]\n",
    "acc10 = [(x, learn.hitInTopN(10, x)) for x in range(50,1500,200)]"
   ]
  },
  {
   "cell_type": "code",
   "execution_count": 41,
   "metadata": {},
   "outputs": [
    {
     "data": {
      "text/plain": [
       "<matplotlib.legend.Legend at 0x7fcbb24e8950>"
      ]
     },
     "execution_count": 41,
     "metadata": {},
     "output_type": "execute_result"
    },
    {
     "data": {
      "image/png": "[encoded data removed]",
      "text/plain": [
       "<Figure size 1080x720 with 1 Axes>"
      ]
     },
     "metadata": {
      "needs_background": "light"
     },
     "output_type": "display_data"
    }
   ],
   "source": [
    "plt.figure(figsize=(15,10))\n",
    "plt.plot(*zip(*acc1))\n",
    "plt.plot(*zip(*acc2))\n",
    "plt.plot(*zip(*acc3))\n",
    "plt.plot(*zip(*acc5))\n",
    "plt.plot(*zip(*acc10))\n",
    "plt.legend([f'acc @ {x}' for x in [1,2,3,5,10]])"
   ]
  },
  {
   "cell_type": "code",
   "execution_count": 42,
   "metadata": {},
   "outputs": [],
   "source": [
    "#export\n",
    "@patch_to(LMLearner)\n",
    "def print_synonyms(self, start_idx, n):\n",
    "    data = self.model[0].encoder.p.data.argsort(descending=True)[:, :5]\n",
    "    print('actual word\\t\\tpredictions\\n')\n",
    "    for i in range(start_idx, start_idx+n):\n",
    "        print(f'{self.dbunch.vocab[i]}\\t\\t{[self.dbunch.vocab[idx] for idx in data[i]]}')"
   ]
  },
  {
   "cell_type": "code",
   "execution_count": 43,
   "metadata": {},
   "outputs": [
    {
     "name": "stdout",
     "output_type": "stream",
     "text": [
      "actual word\t\tpredictions\n",
      "\n",
      "two\t\t['two', 'three', 'four', 'six', 'five']\n",
      "or\t\t['or', 'nor', '&', 'rather', 'via']\n",
      "have\t\t['have', 'having', 've', 'should', 'has']\n",
      "who\t\t['who', 'what', 'whose', 'whom', 'they']\n",
      "new\t\t['new', 'los', 'real', 'entire', 'full']\n",
      "been\t\t['been', 'being', 'be', 'become', 'became']\n",
      "has\t\t['has', 'have', 've', 'should', 'can']\n",
      "@,@\t\t['@,@', 'isbn', '<', '×', '$']\n",
      "she\t\t['she', 'someone', 'gaga', 'madonna', 'everyone']\n",
      "when\t\t['when', 'if', 'until', 'while', 'where']\n",
      "time\t\t['time', 'moment', 'reason', 'way', 'times']\n",
      "during\t\t['during', 'throughout', 'following', 'after', 'at']\n",
      "other\t\t['other', 'various', 'smaller', 'older', 'different']\n",
      "would\t\t['would', 'might', 'will', 'should', 'could']\n",
      "into\t\t['into', 'toward', 'onto', 'towards', 'directly']\n",
      "all\t\t['all', 'every', 'each', 'both', 'none']\n",
      "i\t\t['i', 'you', '<', 'we', 'wasn']\n",
      "more\t\t['less', 'more', '$', '£', 'most']\n",
      "0\t\t['250', '2.5', '1.5', '0', '300']\n",
      "while\t\t['while', 'whilst', 'whereas', 'upon', 'before']\n"
     ]
    }
   ],
   "source": [
    "learn.print_synonyms(60, 20)"
   ]
  },
  {
   "cell_type": "code",
   "execution_count": null,
   "metadata": {},
   "outputs": [],
   "source": [
    "#hide\n",
    "from nbdev.export import notebook2script\n",
    "notebook2script()"
   ]
  },
  {
   "cell_type": "markdown",
   "metadata": {},
   "source": [
    "## Hinting"
   ]
  },
  {
   "cell_type": "code",
   "execution_count": 26,
   "metadata": {},
   "outputs": [],
   "source": [
    "def txt_to_embs(fname):\n",
    "    with open(fname, 'r') as f:\n",
    "        lines = f.readlines()\n",
    "    vocab = []\n",
    "    embs = []\n",
    "    for line in lines[1:]:\n",
    "        l = line.split()\n",
    "        vocab.append(l[0])\n",
    "        embs.append(np.array([float(s) for s in l[1:]]))\n",
    "    return vocab, np.stack(embs)\n",
    "\n",
    "vocab_embs, embs = txt_to_embs('data/en_norm_embs.txt')"
   ]
  },
  {
   "cell_type": "code",
   "execution_count": 28,
   "metadata": {},
   "outputs": [],
   "source": [
    "learn = language_model_learner(\n",
    "    dbunch_lm,\n",
    "    pAWD_LSTM,\n",
    "    opt_func=opt,\n",
    "    pretrained=False,\n",
    "    config=awd_lstm_lm_config,\n",
    "    drop_mult=0.1,\n",
    "    metrics=[accuracy]\n",
    ")"
   ]
  },
  {
   "cell_type": "code",
   "execution_count": 29,
   "metadata": {},
   "outputs": [
    {
     "data": {
      "text/plain": [
       "tensor([[ 0.1315,  0.1048,  0.0151,  ...,  0.0695,  0.0125, -0.1595],\n",
       "        [ 0.1345, -0.1132,  0.0530,  ..., -0.1236,  0.1118, -0.1465],\n",
       "        [ 0.0756,  0.0052, -0.0324,  ...,  0.0524,  0.1298, -0.0519],\n",
       "        ...,\n",
       "        [ 0.0872,  0.1464,  0.0313,  ..., -0.0481, -0.0709, -0.0716],\n",
       "        [ 0.1490,  0.0907, -0.1294,  ...,  0.0135, -0.1171, -0.0876],\n",
       "        [-0.1412,  0.1103, -0.1007,  ..., -0.0793,  0.1622,  0.1346]],\n",
       "       device='cuda:0', grad_fn=<DivBackward0>)"
      ]
     },
     "execution_count": 29,
     "metadata": {},
     "output_type": "execute_result"
    }
   ],
   "source": [
    "learn.model[0].encoder.normalized_weight()"
   ]
  },
  {
   "cell_type": "code",
   "execution_count": 30,
   "metadata": {},
   "outputs": [],
   "source": [
    "learn.model[0].encoder.weight = nn.Parameter(tensor(embs))"
   ]
  },
  {
   "cell_type": "code",
   "execution_count": 31,
   "metadata": {},
   "outputs": [
    {
     "data": {
      "text/plain": [
       "array([ 0.05567548,  0.20085403, -0.0226877 ,  0.11095668, -0.14913796,\n",
       "       -0.08645751, -0.11844323, -0.00441825,  0.07688355, -0.06566723,\n",
       "        0.02883648,  0.0017647 ,  0.02341482, -0.04936096,  0.03709865,\n",
       "       -0.00536616, -0.02851427,  0.00333219, -0.20940374, -0.08665624,\n",
       "        0.00131388,  0.09473028, -0.00196861,  0.03329036,  0.21761465,\n",
       "        0.04576739,  0.00226757,  0.08824757,  0.1839878 ,  0.00553841,\n",
       "        0.01042014,  0.19262226,  0.01104358,  0.01432157,  0.06003151,\n",
       "        0.02492986,  0.14843839,  0.05024946, -0.19080316,  0.09330937,\n",
       "        0.06079802, -0.0446045 , -0.09912582, -0.15654929,  0.03891379,\n",
       "       -0.24344321, -0.02499127, -0.13084292,  0.01145676, -0.2030444 ,\n",
       "        0.09701204, -0.13265465, -0.0472488 , -0.11026009, -0.01328969,\n",
       "       -0.14483726,  0.01440292,  0.04067286, -0.00988345,  0.05069823,\n",
       "        0.17071408,  0.07084484,  0.09972974,  0.09136606,  0.05810552,\n",
       "       -0.01851066,  0.03545561,  0.17030457, -0.12008311, -0.1158416 ,\n",
       "        0.05814508,  0.0016631 , -0.01358684, -0.02178354, -0.09063801,\n",
       "        0.1281065 ,  0.04139371, -0.0197593 ,  0.03799065,  0.01666923,\n",
       "        0.05703999, -0.16952594, -0.1271178 , -0.11234132, -0.00564792,\n",
       "       -0.04626227, -0.02564623, -0.03373372,  0.07580279,  0.03110877,\n",
       "        0.0594393 , -0.07550014,  0.01636808, -0.27464899,  0.09906634,\n",
       "       -0.15827876,  0.00794216,  0.16916199, -0.12275951, -0.10455149])"
      ]
     },
     "execution_count": 31,
     "metadata": {},
     "output_type": "execute_result"
    }
   ],
   "source": [
    "embs[0]"
   ]
  },
  {
   "cell_type": "code",
   "execution_count": 32,
   "metadata": {},
   "outputs": [
    {
     "data": {
      "text/plain": [
       "tensor([ 0.0557,  0.2008, -0.0229,  0.1120, -0.1510, -0.0870, -0.1170, -0.0041,\n",
       "         0.0759, -0.0643,  0.0287,  0.0037,  0.0230, -0.0480,  0.0380, -0.0073,\n",
       "        -0.0279,  0.0026, -0.2090, -0.0879,  0.0014,  0.0965, -0.0016,  0.0336,\n",
       "         0.2177,  0.0457,  0.0012,  0.0888,  0.1839,  0.0051,  0.0112,  0.1931,\n",
       "         0.0122,  0.0148,  0.0600,  0.0230,  0.1487,  0.0496, -0.1912,  0.0912,\n",
       "         0.0615, -0.0452, -0.0998, -0.1567,  0.0383, -0.2429, -0.0259, -0.1311,\n",
       "         0.0109, -0.2024,  0.0964, -0.1325, -0.0478, -0.1113, -0.0136, -0.1445,\n",
       "         0.0138,  0.0405, -0.0095,  0.0496,  0.1697,  0.0717,  0.0999,  0.0899,\n",
       "         0.0586, -0.0193,  0.0352,  0.1701, -0.1217, -0.1164,  0.0582,  0.0017,\n",
       "        -0.0139, -0.0215, -0.0906,  0.1290,  0.0415, -0.0190,  0.0372,  0.0153,\n",
       "         0.0574, -0.1683, -0.1269, -0.1120, -0.0047, -0.0464, -0.0263, -0.0342,\n",
       "         0.0764,  0.0316,  0.0581, -0.0766,  0.0174, -0.2740,  0.0984, -0.1575,\n",
       "         0.0081,  0.1701, -0.1239, -0.1046], grad_fn=<SelectBackward>)"
      ]
     },
     "execution_count": 32,
     "metadata": {},
     "output_type": "execute_result"
    }
   ],
   "source": [
    "learn.model[0].encoder.normalized_weight()[0]"
   ]
  },
  {
   "cell_type": "code",
   "execution_count": 33,
   "metadata": {},
   "outputs": [],
   "source": [
    "learn.model[0].encoder.weight.requires_grad = False"
   ]
  },
  {
   "cell_type": "code",
   "execution_count": 34,
   "metadata": {},
   "outputs": [
    {
     "data": {
      "text/plain": [
       "False"
      ]
     },
     "execution_count": 34,
     "metadata": {},
     "output_type": "execute_result"
    }
   ],
   "source": [
    "learn.model[0].encoder.weight.requires_grad"
   ]
  },
  {
   "cell_type": "code",
   "execution_count": 35,
   "metadata": {},
   "outputs": [
    {
     "name": "stdout",
     "output_type": "stream",
     "text": [
      "epoch     train_loss  valid_loss  accuracy  time    \n",
      "0         2.909128    2.829136    0.423710  44:34     \n"
     ]
    }
   ],
   "source": [
    "learn.fit_one_cycle(1, 5e-3,  moms=(0.8, 0.7, 0.8), wd=1e-7)"
   ]
  },
  {
   "cell_type": "code",
   "execution_count": 37,
   "metadata": {},
   "outputs": [],
   "source": [
    "learn.save('normalized_mapped_en')"
   ]
  }
 ],
 "metadata": {
  "kernelspec": {
   "display_name": "Python 3",
   "language": "python",
   "name": "python3"
  },
  "language_info": {
   "codemirror_mode": {
    "name": "ipython",
    "version": 3
   },
   "file_extension": ".py",
   "mimetype": "text/x-python",
   "name": "python",
   "nbconvert_exporter": "python",
   "pygments_lexer": "ipython3",
   "version": "3.7.5"
  }
 },
 "nbformat": 4,
 "nbformat_minor": 2
}
