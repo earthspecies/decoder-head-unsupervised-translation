{
 "cells": [
  {
   "cell_type": "code",
   "execution_count": 1,
   "metadata": {},
   "outputs": [],
   "source": [
    "from decoder_head.core import *\n",
    "from fastai2.text.all import *"
   ]
  },
  {
   "cell_type": "code",
   "execution_count": 4,
   "metadata": {},
   "outputs": [
    {
     "name": "stdout",
     "output_type": "stream",
     "text": [
      "es.wiki.test.tokens  es.wiki.train.tokens  es.wiki.valid.tokens\r\n"
     ]
    }
   ],
   "source": [
    "ls data/es-100"
   ]
  },
  {
   "cell_type": "code",
   "execution_count": 44,
   "metadata": {},
   "outputs": [
    {
     "name": "stdout",
     "output_type": "stream",
     "text": [
      "es-100/\n",
      "es-100/es.wiki.test.tokens\n",
      "es-100/es.wiki.train.tokens\n",
      "es-100/es.wiki.valid.tokens\n"
     ]
    }
   ],
   "source": [
    "# !rm -rf data/es-100\n",
    "# !tar -xvf data/es-100.tar.gz -C data\n",
    "\n",
    "# !mkdir data/es-100/train\n",
    "# !mkdir data/es-100/valid\n",
    "# !mkdir data/es-100/test\n",
    "\n",
    "# !mv data/es-100/es.wiki.train.tokens data/es-100/train/es.wiki.train.tokens\n",
    "# !mv data/es-100/es.wiki.valid.tokens data/es-100/valid/es.wiki.valid.tokens\n",
    "# !mv data/es-100/es.wiki.test.tokens data/es-100/test/es.wiki.test.tokens"
   ]
  },
  {
   "cell_type": "code",
   "execution_count": 48,
   "metadata": {},
   "outputs": [],
   "source": [
    "# split_file_into_chunks('data/es-100/train/es.wiki.train.tokens')\n",
    "# split_file_into_chunks('data/es-100/valid/es.wiki.valid.tokens')\n",
    "# split_file_into_chunks('data/es-100/test/es.wiki.test.tokens')"
   ]
  },
  {
   "cell_type": "code",
   "execution_count": 49,
   "metadata": {},
   "outputs": [
    {
     "name": "stdout",
     "output_type": "stream",
     "text": [
      "0.txt   13.txt  17.txt  20.txt  2.txt  6.txt  es.wiki.train.tokens\r\n",
      "10.txt  14.txt  18.txt  21.txt  3.txt  7.txt\r\n",
      "11.txt  15.txt  19.txt  22.txt  4.txt  8.txt\r\n",
      "12.txt  16.txt  1.txt   23.txt  5.txt  9.txt\r\n"
     ]
    }
   ],
   "source": [
    "ls data/es-100/train"
   ]
  },
  {
   "cell_type": "code",
   "execution_count": 50,
   "metadata": {},
   "outputs": [
    {
     "data": {
      "text/html": [],
      "text/plain": [
       "<IPython.core.display.HTML object>"
      ]
     },
     "metadata": {},
     "output_type": "display_data"
    }
   ],
   "source": [
    "# tokenize_folder('data/es-100')"
   ]
  },
  {
   "cell_type": "code",
   "execution_count": 2,
   "metadata": {},
   "outputs": [],
   "source": [
    "vocab = make_vocab(pd.read_pickle('data/es-100_tok/counter.pkl'), max_vocab=4000)"
   ]
  },
  {
   "cell_type": "code",
   "execution_count": 3,
   "metadata": {},
   "outputs": [],
   "source": [
    "path = 'data/es-100_tok/'\n",
    "mult = 4\n",
    "bs = 80\n",
    "seq_len = 70\n",
    "\n",
    "lm = DataBlock(blocks=(TextBlock(vocab=vocab, is_lm=True),),\n",
    "                get_x=read_tokenized_file,\n",
    "                get_items=partial(get_text_files, folders=['train', 'valid']),\n",
    "                splitter=FuncSplitter(lambda itm: itm.parent.name == 'valid'))\n",
    "\n",
    "dbunch_lm = lm.databunch(path, path=path, bs=bs, seq_len=seq_len)"
   ]
  },
  {
   "cell_type": "code",
   "execution_count": 4,
   "metadata": {},
   "outputs": [],
   "source": [
    "learn = language_model_learner(\n",
    "    dbunch_lm,\n",
    "    pAWD_LSTM,\n",
    "    opt_func=opt,\n",
    "    pretrained=False,\n",
    "    config=awd_lstm_lm_config,\n",
    "    drop_mult=0.1,\n",
    "    metrics=[accuracy]\n",
    ")"
   ]
  },
  {
   "cell_type": "code",
   "execution_count": 53,
   "metadata": {},
   "outputs": [
    {
     "data": {
      "text/plain": [
       "tensor(0.1720)"
      ]
     },
     "execution_count": 53,
     "metadata": {},
     "output_type": "execute_result"
    }
   ],
   "source": [
    "torch.mean((torch.cat([tup[0] for tup in dbunch_lm.valid_ds]) == 0).float())"
   ]
  },
  {
   "cell_type": "code",
   "execution_count": 55,
   "metadata": {},
   "outputs": [
    {
     "data": {
      "text/html": [
       "<table border=\"1\" class=\"dataframe\">\n",
       "  <thead>\n",
       "    <tr style=\"text-align: left;\">\n",
       "      <th>epoch</th>\n",
       "      <th>train_loss</th>\n",
       "      <th>valid_loss</th>\n",
       "      <th>accuracy</th>\n",
       "      <th>time</th>\n",
       "    </tr>\n",
       "  </thead>\n",
       "  <tbody>\n",
       "    <tr>\n",
       "      <td>0</td>\n",
       "      <td>2.486690</td>\n",
       "      <td>2.816764</td>\n",
       "      <td>0.392779</td>\n",
       "      <td>46:39</td>\n",
       "    </tr>\n",
       "  </tbody>\n",
       "</table>"
      ],
      "text/plain": [
       "<IPython.core.display.HTML object>"
      ]
     },
     "metadata": {},
     "output_type": "display_data"
    },
    {
     "name": "stderr",
     "output_type": "stream",
     "text": [
      "IOPub message rate exceeded.\n",
      "The notebook server will temporarily stop sending output\n",
      "to the client in order to avoid crashing it.\n",
      "To change this limit, set the config variable\n",
      "`--NotebookApp.iopub_msg_rate_limit`.\n",
      "\n",
      "Current values:\n",
      "NotebookApp.iopub_msg_rate_limit=1000.0 (msgs/sec)\n",
      "NotebookApp.rate_limit_window=3.0 (secs)\n",
      "\n"
     ]
    }
   ],
   "source": [
    "learn.fit_one_cycle(1, 5e-3,  moms=(0.8, 0.7, 0.8), wd=1e-7)"
   ]
  },
  {
   "cell_type": "code",
   "execution_count": 56,
   "metadata": {},
   "outputs": [],
   "source": [
    "# learn.save('pLSTM_es')"
   ]
  },
  {
   "cell_type": "code",
   "execution_count": 7,
   "metadata": {},
   "outputs": [
    {
     "data": {
      "text/plain": [
       "<fastai2.text.learner.LMLearner at 0x7f55c0677c10>"
      ]
     },
     "execution_count": 7,
     "metadata": {},
     "output_type": "execute_result"
    }
   ],
   "source": [
    "learn.load('pLSTM_es')"
   ]
  },
  {
   "cell_type": "code",
   "execution_count": 13,
   "metadata": {},
   "outputs": [],
   "source": [
    "torch.save(learn.model[0].encoder.weight, 'data/embeddings_es.torch')\n",
    "torch.save(learn.dbunch.vocab, 'data/vocab_es.torch')"
   ]
  },
  {
   "cell_type": "code",
   "execution_count": 6,
   "metadata": {},
   "outputs": [
    {
     "data": {
      "text/html": [],
      "text/plain": [
       "<IPython.core.display.HTML object>"
      ]
     },
     "metadata": {},
     "output_type": "display_data"
    },
    {
     "data": {
      "text/plain": [
       "'La Red y el Cementerio Santo Domingo , fueron los primeros en participar , que en septiembre'"
      ]
     },
     "execution_count": 6,
     "metadata": {},
     "output_type": "execute_result"
    }
   ],
   "source": [
    "learn.predict('La', n_words=20)"
   ]
  },
  {
   "cell_type": "code",
   "execution_count": 7,
   "metadata": {},
   "outputs": [],
   "source": [
    "learn.optimize_permutation()"
   ]
  },
  {
   "cell_type": "code",
   "execution_count": 9,
   "metadata": {},
   "outputs": [
    {
     "data": {
      "text/html": [],
      "text/plain": [
       "<IPython.core.display.HTML object>"
      ]
     },
     "metadata": {},
     "output_type": "display_data"
    }
   ],
   "source": [
    "preds, targs = learn.get_preds()"
   ]
  },
  {
   "cell_type": "code",
   "execution_count": 10,
   "metadata": {},
   "outputs": [
    {
     "data": {
      "text/plain": [
       "tensor(2.8087, device='cuda:0', grad_fn=<AddBackward0>)"
      ]
     },
     "execution_count": 10,
     "metadata": {},
     "output_type": "execute_result"
    }
   ],
   "source": [
    "aza_loss(learn, preds, targs)"
   ]
  },
  {
   "cell_type": "code",
   "execution_count": 11,
   "metadata": {},
   "outputs": [
    {
     "data": {
      "text/plain": [
       "Parameter containing:\n",
       "tensor([[ 0.0202,  0.0092,  0.0202,  ...,  0.0065, -0.0105, -0.0176],\n",
       "        [ 0.0157,  0.0335,  0.0423,  ...,  0.0039,  0.0298, -0.0334],\n",
       "        [ 0.0148,  0.0290, -0.0304,  ...,  0.0317, -0.0044,  0.0185],\n",
       "        ...,\n",
       "        [-0.0219, -0.0451, -0.0346,  ..., -0.0046, -0.0389,  0.0021],\n",
       "        [-0.0031,  0.0020,  0.0253,  ..., -0.0223,  0.0424, -0.0107],\n",
       "        [-0.0175, -0.0138, -0.0025,  ..., -0.0412,  0.0085, -0.0363]],\n",
       "       device='cuda:0', requires_grad=True)"
      ]
     },
     "execution_count": 11,
     "metadata": {},
     "output_type": "execute_result"
    }
   ],
   "source": [
    "nn.init.kaiming_normal_(learn.model[0].encoder.p)"
   ]
  },
  {
   "cell_type": "code",
   "execution_count": 12,
   "metadata": {},
   "outputs": [
    {
     "data": {
      "text/html": [],
      "text/plain": [
       "<IPython.core.display.HTML object>"
      ]
     },
     "metadata": {},
     "output_type": "display_data"
    },
    {
     "data": {
      "text/plain": [
       "(tensor(564654.6875, device='cuda:0', grad_fn=<AddBackward0>), tensor(6.0058))"
      ]
     },
     "execution_count": 12,
     "metadata": {},
     "output_type": "execute_result"
    }
   ],
   "source": [
    "preds, targs = learn.get_preds()\n",
    "aza_loss(learn, preds, targs, debug=True)"
   ]
  },
  {
   "cell_type": "code",
   "execution_count": 13,
   "metadata": {},
   "outputs": [],
   "source": [
    "learn.loss_func = lambda preds, targs: aza_loss(learn, preds, targs)"
   ]
  },
  {
   "cell_type": "code",
   "execution_count": 14,
   "metadata": {},
   "outputs": [
    {
     "data": {
      "text/html": [
       "<table border=\"1\" class=\"dataframe\">\n",
       "  <thead>\n",
       "    <tr style=\"text-align: left;\">\n",
       "      <th>epoch</th>\n",
       "      <th>train_loss</th>\n",
       "      <th>valid_loss</th>\n",
       "      <th>accuracy</th>\n",
       "      <th>time</th>\n",
       "    </tr>\n",
       "  </thead>\n",
       "  <tbody>\n",
       "    <tr>\n",
       "      <td>0</td>\n",
       "      <td>2.613976</td>\n",
       "      <td>2.948374</td>\n",
       "      <td>0.377296</td>\n",
       "      <td>39:42</td>\n",
       "    </tr>\n",
       "  </tbody>\n",
       "</table>"
      ],
      "text/plain": [
       "<IPython.core.display.HTML object>"
      ]
     },
     "metadata": {},
     "output_type": "display_data"
    }
   ],
   "source": [
    "learn.fit_one_cycle(1, 1e-3,  moms=(0.8, 0.7, 0.8), wd=1e-7)"
   ]
  },
  {
   "cell_type": "code",
   "execution_count": 15,
   "metadata": {},
   "outputs": [],
   "source": [
    "# learn.save('pLSTM_es_permute_embeddings')"
   ]
  },
  {
   "cell_type": "code",
   "execution_count": 5,
   "metadata": {},
   "outputs": [
    {
     "data": {
      "text/plain": [
       "<fastai2.text.learner.LMLearner at 0x7f55c0677c10>"
      ]
     },
     "execution_count": 5,
     "metadata": {},
     "output_type": "execute_result"
    }
   ],
   "source": [
    "learn.load('pLSTM_es_permute_embeddings')"
   ]
  },
  {
   "cell_type": "code",
   "execution_count": 6,
   "metadata": {},
   "outputs": [
    {
     "data": {
      "text/plain": [
       "(0.9899999499320984, 1.0)"
      ]
     },
     "execution_count": 6,
     "metadata": {},
     "output_type": "execute_result"
    }
   ],
   "source": [
    "learn.hitInTopN(1, 100), learn.hitInTopN(5, 100)"
   ]
  },
  {
   "cell_type": "code",
   "execution_count": 8,
   "metadata": {},
   "outputs": [],
   "source": [
    "acc1 = [(x, learn.hitInTopN(1, x)) for x in range(50,1500,200)]\n",
    "acc2 = [(x, learn.hitInTopN(2, x)) for x in range(50,1500,200)]\n",
    "acc3 = [(x, learn.hitInTopN(3, x)) for x in range(50,1500,200)]\n",
    "acc5 = [(x, learn.hitInTopN(5, x)) for x in range(50,1500,200)]\n",
    "acc10 = [(x, learn.hitInTopN(10, x)) for x in range(50,1500,200)]"
   ]
  },
  {
   "cell_type": "code",
   "execution_count": 9,
   "metadata": {},
   "outputs": [
    {
     "data": {
      "text/plain": [
       "<matplotlib.legend.Legend at 0x7fb8fc4fad50>"
      ]
     },
     "execution_count": 9,
     "metadata": {},
     "output_type": "execute_result"
    },
    {
     "data": {
      "image/png": "[encoded data removed]",
      "text/plain": [
       "<Figure size 1080x720 with 1 Axes>"
      ]
     },
     "metadata": {
      "needs_background": "light"
     },
     "output_type": "display_data"
    }
   ],
   "source": [
    "plt.figure(figsize=(15,10))\n",
    "plt.plot(*zip(*acc1))\n",
    "plt.plot(*zip(*acc2))\n",
    "plt.plot(*zip(*acc3))\n",
    "plt.plot(*zip(*acc5))\n",
    "plt.plot(*zip(*acc10))\n",
    "plt.legend([f'acc @ {x}' for x in [1,2,3,5,10]])"
   ]
  },
  {
   "cell_type": "code",
   "execution_count": 11,
   "metadata": {},
   "outputs": [
    {
     "name": "stdout",
     "output_type": "stream",
     "text": [
      "actual word\t\tpredictions\n",
      "\n",
      "años\t\t['años', 'siglos', 'meses', 'décadas', 'temporadas']\n",
      "son\t\t['son', 'están', 'incluyen', 'serán', 'eran']\n",
      "año\t\t['año', 'minuto', 'temporada', 'mes', 'siglos']\n",
      "desde\t\t['desde', 'véase', 'hacia', 'entre', 'durante']\n",
      "pero\t\t['pero', 'aunque', 'pues', 'etc', 'mientras']\n",
      "según\t\t['según', 'siguiendo', 'pese', 'véase', 'dependiendo']\n",
      "durante\t\t['durante', 'tras', 'siguiendo', 'falleció', 'desde']\n",
      "esta\t\t['esta', 'dicha', 'estas', 'esa', 'este']\n",
      "hasta\t\t['hasta', 'hacia', 'desde', 'ua', 'llegando']\n",
      "parte\t\t['parte', 'depende', 'lado', 'mitad', 'consecuencia']\n",
      "ha\t\t['ha', 'han', 'he', 'ee.uu', 'nos']\n",
      "sobre\t\t['sobre', 'ante', 'hacia', 'siguiendo', 'acerca']\n",
      "censo\t\t['censo', 'contaba', 'township', 'plazo', 'ayuntamiento']\n",
      "había\t\t['había', 'habían', 'hubiera', 'habría', 'puso']\n",
      "personas\t\t['personas', 'pacientes', 'individuos', 'familias', 'mujeres']\n",
      "«\t\t['«', '‘', '¿', '“', 'frase']\n",
      "»\t\t['»', '”', '’', '¡', '!']\n",
      "donde\t\t['donde', 'quienes', 'cuyo', 'cuya', 'cuyos']\n",
      "le\t\t['le', 'les', 'nos', 'murió', 'decía']\n",
      "tiene\t\t['tiene', 'tienen', 'tendrá', 'lleva', 'tenían']\n"
     ]
    }
   ],
   "source": [
    "learn.print_synonyms(60, 20)"
   ]
  }
 ],
 "metadata": {
  "kernelspec": {
   "display_name": "Python 3",
   "language": "python",
   "name": "python3"
  },
  "language_info": {
   "codemirror_mode": {
    "name": "ipython",
    "version": 3
   },
   "file_extension": ".py",
   "mimetype": "text/x-python",
   "name": "python",
   "nbconvert_exporter": "python",
   "pygments_lexer": "ipython3",
   "version": "3.7.5"
  }
 },
 "nbformat": 4,
 "nbformat_minor": 2
}
