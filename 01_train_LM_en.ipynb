{
 "cells": [
  {
   "cell_type": "code",
   "execution_count": 1,
   "metadata": {},
   "outputs": [],
   "source": [
    "from nbdev.showdoc import *"
   ]
  },
  {
   "cell_type": "code",
   "execution_count": 2,
   "metadata": {},
   "outputs": [],
   "source": [
    "#default_exp core"
   ]
  },
  {
   "cell_type": "code",
   "execution_count": 2,
   "metadata": {},
   "outputs": [],
   "source": [
    "#export\n",
    "from fastai2.text.all import *"
   ]
  },
  {
   "cell_type": "markdown",
   "metadata": {},
   "source": [
    "The data is seperated into two folders, `train` and `valid`."
   ]
  },
  {
   "cell_type": "code",
   "execution_count": 2,
   "metadata": {},
   "outputs": [
    {
     "name": "stdout",
     "output_type": "stream",
     "text": [
      "\u001b[0m\u001b[01;34mtrain\u001b[0m/  \u001b[01;34mvalid\u001b[0m/\r\n"
     ]
    }
   ],
   "source": [
    "ls data/en-100"
   ]
  },
  {
   "cell_type": "markdown",
   "metadata": {},
   "source": [
    "The issue is that all of the data, in each folder, lives in just a single file. We want to run the tokenization in parallel and as such it would be best to split the files."
   ]
  },
  {
   "cell_type": "code",
   "execution_count": 39,
   "metadata": {},
   "outputs": [],
   "source": [
    "#export\n",
    "def split_file_into_chunks(path, num_chunks=24):\n",
    "    txt = Path(path).read().split('\\n')\n",
    "    chunk_len = len(txt) // num_chunks\n",
    "    \n",
    "    for i in range(num_chunks):\n",
    "        with open(Path(path).parent / f'{i}.txt', \"w\") as text_file:\n",
    "            text_file.write('\\n'.join(txt[i*chunk_len:(i+1)*chunk_len]))"
   ]
  },
  {
   "cell_type": "code",
   "execution_count": 4,
   "metadata": {},
   "outputs": [],
   "source": [
    "# split_file_into_chunks('data/en-100/train/en.wiki.train.tokens')\n",
    "# split_file_into_chunks('data/en-100/valid/en.wiki.valid.tokens')"
   ]
  },
  {
   "cell_type": "code",
   "execution_count": 5,
   "metadata": {},
   "outputs": [],
   "source": [
    "# !rm data/en-100/train/*.txt\n",
    "# !rm data/en-100/valid/*.txt"
   ]
  },
  {
   "cell_type": "code",
   "execution_count": 6,
   "metadata": {},
   "outputs": [
    {
     "name": "stdout",
     "output_type": "stream",
     "text": [
      "0.txt   13.txt  17.txt  20.txt  2.txt  6.txt  en.wiki.train.tokens\r\n",
      "10.txt  14.txt  18.txt  21.txt  3.txt  7.txt\r\n",
      "11.txt  15.txt  19.txt  22.txt  4.txt  8.txt\r\n",
      "12.txt  16.txt  1.txt   23.txt  5.txt  9.txt\r\n"
     ]
    }
   ],
   "source": [
    "ls data/en-100/train"
   ]
  },
  {
   "cell_type": "markdown",
   "metadata": {},
   "source": [
    "To tokenize the text, we can use the very handy `tokenize_folder` function."
   ]
  },
  {
   "cell_type": "code",
   "execution_count": 7,
   "metadata": {},
   "outputs": [],
   "source": [
    "# tokenize_folder('data/en-100/', folders=['train', 'valid'])"
   ]
  },
  {
   "cell_type": "markdown",
   "metadata": {},
   "source": [
    "The tokenized text now lives in a new folder."
   ]
  },
  {
   "cell_type": "code",
   "execution_count": 8,
   "metadata": {},
   "outputs": [
    {
     "name": "stdout",
     "output_type": "stream",
     "text": [
      "counter.pkl  \u001b[0m\u001b[01;34mmodels\u001b[0m/  \u001b[01;34mtrain\u001b[0m/  \u001b[01;34mvalid\u001b[0m/\r\n"
     ]
    }
   ],
   "source": [
    "ls data/en-100_tok/"
   ]
  },
  {
   "cell_type": "markdown",
   "metadata": {},
   "source": [
    "To have control over the vocabulary our LM will use, we can use `make_vocab` "
   ]
  },
  {
   "cell_type": "code",
   "execution_count": 3,
   "metadata": {},
   "outputs": [],
   "source": [
    "vocab = make_vocab(pd.read_pickle('data/en-100_tok/counter.pkl'), max_vocab=4000)"
   ]
  },
  {
   "cell_type": "code",
   "execution_count": 4,
   "metadata": {},
   "outputs": [],
   "source": [
    "# path = 'data/en-100_tok/'\n",
    "# mult = 4\n",
    "# bs = 80\n",
    "# seq_len = 70\n",
    "\n",
    "# lm = DataBlock(blocks=(TextBlock(get_tokenizer(), vocab=vocab, is_lm=True, seq_len=seq_len),),\n",
    "#                 get_x=read_tokenized_file,\n",
    "#                 get_items=partial(get_text_files, folders=['train', 'valid']),\n",
    "#                 splitter=splitter)\n",
    "\n",
    "# dbunch_lm = lm.databunch(path, path=path, bs=bs, seq_len=seq_len)"
   ]
  },
  {
   "cell_type": "code",
   "execution_count": 4,
   "metadata": {},
   "outputs": [],
   "source": [
    "path = 'data/en-100_tok/'\n",
    "mult = 4\n",
    "bs = 80\n",
    "seq_len = 70\n",
    "\n",
    "lm = DataBlock(blocks=(TextBlock(vocab=vocab, is_lm=True),),\n",
    "                get_x=read_tokenized_file,\n",
    "                get_items=partial(get_text_files, folders=['train', 'valid']),\n",
    "                splitter=FuncSplitter(lambda itm: itm.parent.name == 'valid'))\n",
    "\n",
    "dbunch_lm = lm.databunch(path, path=path, bs=bs, seq_len=seq_len)"
   ]
  },
  {
   "cell_type": "markdown",
   "metadata": {},
   "source": [
    "If we go for a vocab of 4k, how many unknowns will we get?"
   ]
  },
  {
   "cell_type": "code",
   "execution_count": 12,
   "metadata": {},
   "outputs": [
    {
     "data": {
      "text/plain": [
       "tensor(0.1373)"
      ]
     },
     "execution_count": 12,
     "metadata": {},
     "output_type": "execute_result"
    }
   ],
   "source": [
    "torch.mean((torch.cat([tup[0] for tup in dbunch_lm.valid_ds]) == 0).float())"
   ]
  },
  {
   "cell_type": "markdown",
   "metadata": {},
   "source": [
    "This is stunning, the fact that just 4k tokens cover so much vocabulary! Since the initial intent is exploratory, a 4k vocab will be a great starting point. This should allow us to experiment with all of the architectures we have in our arsenal without worrying too much about memory footprint.\n",
    "\n",
    "Let's start with training a basic architecture with a permutation matrix between the embeddings and the model. This setup will allow us to experiment whether the model will be able to learn the mapping of words to embeddings should we wipe it out. Also, what happens if we replace the English embeddings with embeddings from a different language? Is there enough structure in the embedding space for the LM to be able to map foreign language embeddings to their English counterparts?\n",
    "\n",
    "We replace the encoder with our `PermuteEmgedding` layer. "
   ]
  },
  {
   "cell_type": "code",
   "execution_count": 5,
   "metadata": {},
   "outputs": [],
   "source": [
    "#export\n",
    "class PermuteEmbedding(nn.Module):\n",
    "    def __init__(self, num_embeddings, embedding_dim, padding_idx):\n",
    "        super().__init__()\n",
    "        \n",
    "        self.num_embeddings = num_embeddings\n",
    "        self.embedding_dim = embedding_dim\n",
    "        self.padding_idx = padding_idx\n",
    "        \n",
    "        # to conform to nn.Embedding api\n",
    "        self.max_norm=None\n",
    "        self.norm_type=2.0\n",
    "        self.scale_grad_by_freq=False\n",
    "        self.sparse = False\n",
    "\n",
    "        self.weight = nn.Parameter( torch.Tensor(num_embeddings, embedding_dim) )\n",
    "        self.p = nn.Parameter( torch.eye(self.num_embeddings) )\n",
    "        self.p.requires_grad = False\n",
    "        \n",
    "        self.reset_parameters()\n",
    "        \n",
    "    def forward(self, words):\n",
    "        return F.embedding(words, self.p @ self.weight)\n",
    "    \n",
    "    def reset_parameters(self): pass"
   ]
  },
  {
   "cell_type": "markdown",
   "metadata": {},
   "source": [
    "Time to modify the `AWD_LSTM` architecture."
   ]
  },
  {
   "cell_type": "code",
   "execution_count": 6,
   "metadata": {},
   "outputs": [],
   "source": [
    "#export\n",
    "class pAWD_LSTM(AWD_LSTM):\n",
    "    def __init__(self, vocab_sz, emb_sz, n_hid, n_layers, pad_token=1, hidden_p=0.2, input_p=0.6, embed_p=0.1,\n",
    "                 weight_p=0.5, bidir=False, packed=False):\n",
    "        store_attr(self, 'emb_sz,n_hid,n_layers,pad_token,packed')\n",
    "        self.bs = 1\n",
    "        self.n_dir = 2 if bidir else 1\n",
    "#         self.encoder = nn.Embedding(vocab_sz, emb_sz, padding_idx=pad_token)\n",
    "        self.encoder = PermuteEmbedding(vocab_sz, emb_sz, padding_idx=pad_token)\n",
    "    \n",
    "#         self.encoder_dp = EmbeddingDropout(self.encoder, embed_p)\n",
    "        self.encoder_dp = self.encoder # chosing to initally train without embedding dropout\n",
    "        self.rnns = nn.ModuleList([self._one_rnn(emb_sz if l == 0 else n_hid, (n_hid if l != n_layers - 1 else emb_sz)//self.n_dir,\n",
    "                                                 bidir, weight_p, l) for l in range(n_layers)])\n",
    "        self.encoder.weight.data.uniform_(-self.initrange, self.initrange)\n",
    "        self.input_dp = RNNDropout(input_p)\n",
    "        self.hidden_dps = nn.ModuleList([RNNDropout(hidden_p) for l in range(n_layers)])"
   ]
  },
  {
   "cell_type": "markdown",
   "metadata": {},
   "source": [
    "Adding our architecture to `_model_meta` so that we can nicely interface with the `fastai v2` machinery."
   ]
  },
  {
   "cell_type": "code",
   "execution_count": 7,
   "metadata": {},
   "outputs": [],
   "source": [
    "#export\n",
    "import fastai2\n",
    "fastai2.text.models.core._model_meta[pAWD_LSTM] = fastai2.text.models.core._model_meta[AWD_LSTM]"
   ]
  },
  {
   "cell_type": "code",
   "execution_count": 8,
   "metadata": {},
   "outputs": [],
   "source": [
    "#export\n",
    "\n",
    "# TODO: add gradient clipping of 0.12 at some point\n",
    "\n",
    "def opt(params, lr):\n",
    "    return Adam(params, lr, mom=0.8, sqr_mom=0.99)\n",
    "\n",
    "drops = np.array([0.25, 0.1, 0.2, 0.02, 0.15])\n",
    "\n",
    "config = dict(\n",
    "    emb_sz=100,\n",
    "    n_hid=1150,\n",
    "    n_layers=3,\n",
    "    input_p=drops[0],\n",
    "    hidden_p=drops[1],\n",
    "    weight_p=drops[2],\n",
    "    embed_p=drops[3])\n",
    "\n",
    "awd_lstm_lm_config.update(config)"
   ]
  },
  {
   "cell_type": "code",
   "execution_count": 9,
   "metadata": {},
   "outputs": [],
   "source": [
    "learn = language_model_learner(\n",
    "    dbunch_lm,\n",
    "    pAWD_LSTM,\n",
    "    opt_func=opt,\n",
    "    pretrained=False,\n",
    "    config=awd_lstm_lm_config,\n",
    "    drop_mult=0.1,\n",
    "    metrics=[accuracy]\n",
    ")"
   ]
  },
  {
   "cell_type": "code",
   "execution_count": 17,
   "metadata": {},
   "outputs": [
    {
     "data": {
      "text/html": [
       "<table border=\"1\" class=\"dataframe\">\n",
       "  <thead>\n",
       "    <tr style=\"text-align: left;\">\n",
       "      <th>epoch</th>\n",
       "      <th>train_loss</th>\n",
       "      <th>valid_loss</th>\n",
       "      <th>accuracy</th>\n",
       "      <th>time</th>\n",
       "    </tr>\n",
       "  </thead>\n",
       "  <tbody>\n",
       "    <tr>\n",
       "      <td>0</td>\n",
       "      <td>2.904468</td>\n",
       "      <td>2.818111</td>\n",
       "      <td>0.426659</td>\n",
       "      <td>46:37</td>\n",
       "    </tr>\n",
       "  </tbody>\n",
       "</table>"
      ],
      "text/plain": [
       "<IPython.core.display.HTML object>"
      ]
     },
     "metadata": {},
     "output_type": "display_data"
    }
   ],
   "source": [
    "learn.fit_one_cycle(1, 5e-3,  moms=(0.8, 0.7, 0.8), wd=1e-7)"
   ]
  },
  {
   "cell_type": "code",
   "execution_count": 18,
   "metadata": {},
   "outputs": [],
   "source": [
    "# learn.save('pLSTM_en')"
   ]
  },
  {
   "cell_type": "code",
   "execution_count": 10,
   "metadata": {},
   "outputs": [
    {
     "data": {
      "text/plain": [
       "<fastai2.text.learner.LMLearner at 0x7f04353aebd0>"
      ]
     },
     "execution_count": 10,
     "metadata": {},
     "output_type": "execute_result"
    }
   ],
   "source": [
    "learn.load('pLSTM_en')"
   ]
  },
  {
   "cell_type": "code",
   "execution_count": 44,
   "metadata": {},
   "outputs": [
    {
     "data": {
      "text/html": [],
      "text/plain": [
       "<IPython.core.display.HTML object>"
      ]
     },
     "metadata": {},
     "output_type": "display_data"
    },
    {
     "data": {
      "text/plain": [
       "\"The man who tried to hit the Le Recording Company in Mount Stephen 's army near\""
      ]
     },
     "execution_count": 44,
     "metadata": {},
     "output_type": "execute_result"
    }
   ],
   "source": [
    "learn.predict('The man', n_words=20)"
   ]
  },
  {
   "cell_type": "markdown",
   "metadata": {},
   "source": [
    "Now that we have a trained LM, let's wipe the mapping from words to embeddings and see if we can recover it.\n",
    "\n",
    "We will freeze the model and only train the part mapping from word idx to embedding (or, in other words, performing a linear combination of embeddings and ideally assigning the largest weight to the correct embedding for a given word idx)."
   ]
  },
  {
   "cell_type": "code",
   "execution_count": 11,
   "metadata": {},
   "outputs": [],
   "source": [
    "#export\n",
    "import warnings\n",
    "\n",
    "@patch_to(LMLearner)\n",
    "def optimize_permutation(self):\n",
    "    with warnings.catch_warnings():\n",
    "        warnings.simplefilter(\"ignore\")\n",
    "        self.freeze_to(4)\n",
    "    self.model[0].encoder.p.requires_grad = True\n",
    "    \n",
    "@patch_to(LMLearner)\n",
    "def optimize_model(self):\n",
    "    self.unfreeze()\n",
    "    self.model[0].encoder.p.requires_grad = False"
   ]
  },
  {
   "cell_type": "code",
   "execution_count": 12,
   "metadata": {},
   "outputs": [],
   "source": [
    "learn.optimize_permutation()"
   ]
  },
  {
   "cell_type": "code",
   "execution_count": 13,
   "metadata": {},
   "outputs": [
    {
     "data": {
      "text/plain": [
       "True"
      ]
     },
     "execution_count": 13,
     "metadata": {},
     "output_type": "execute_result"
    }
   ],
   "source": [
    "learn.model[0].encoder.p.requires_grad"
   ]
  },
  {
   "cell_type": "code",
   "execution_count": 14,
   "metadata": {},
   "outputs": [
    {
     "data": {
      "text/plain": [
       "False"
      ]
     },
     "execution_count": 14,
     "metadata": {},
     "output_type": "execute_result"
    }
   ],
   "source": [
    "learn.model[0].encoder.weight.requires_grad"
   ]
  },
  {
   "cell_type": "code",
   "execution_count": 4,
   "metadata": {},
   "outputs": [],
   "source": [
    "#export\n",
    "def aza_loss(learn, input=None, target=None, scaling_factor=5/2000, debug=False):\n",
    "    p = learn.model[0].encoder.p\n",
    "    sums_to_one = (1-p.abs().sum(dim=0)).abs().sum() + (1-p.abs().sum(dim=1)).abs().sum()\n",
    "    the_model = CrossEntropyLossFlat()(input, target)\n",
    "    if debug: return sums_to_one, the_model\n",
    "    else:     return scaling_factor * sums_to_one + (1 - scaling_factor) * the_model"
   ]
  },
  {
   "cell_type": "code",
   "execution_count": 24,
   "metadata": {},
   "outputs": [
    {
     "data": {
      "text/plain": [
       "Parameter containing:\n",
       "tensor([[1., 0., 0.,  ..., 0., 0., 0.],\n",
       "        [0., 1., 0.,  ..., 0., 0., 0.],\n",
       "        [0., 0., 1.,  ..., 0., 0., 0.],\n",
       "        ...,\n",
       "        [0., 0., 0.,  ..., 1., 0., 0.],\n",
       "        [0., 0., 0.,  ..., 0., 1., 0.],\n",
       "        [0., 0., 0.,  ..., 0., 0., 1.]], device='cuda:0', requires_grad=True)"
      ]
     },
     "execution_count": 24,
     "metadata": {},
     "output_type": "execute_result"
    }
   ],
   "source": [
    "learn.model[0].encoder.p"
   ]
  },
  {
   "cell_type": "code",
   "execution_count": 25,
   "metadata": {},
   "outputs": [
    {
     "data": {
      "text/html": [],
      "text/plain": [
       "<IPython.core.display.HTML object>"
      ]
     },
     "metadata": {},
     "output_type": "display_data"
    }
   ],
   "source": [
    "preds, targs = learn.get_preds()"
   ]
  },
  {
   "cell_type": "code",
   "execution_count": 26,
   "metadata": {},
   "outputs": [
    {
     "data": {
      "text/plain": [
       "tensor(2.8107, device='cuda:0', grad_fn=<AddBackward0>)"
      ]
     },
     "execution_count": 26,
     "metadata": {},
     "output_type": "execute_result"
    }
   ],
   "source": [
    "aza_loss(learn, preds, targs)"
   ]
  },
  {
   "cell_type": "code",
   "execution_count": 27,
   "metadata": {},
   "outputs": [
    {
     "data": {
      "text/plain": [
       "Parameter containing:\n",
       "tensor([[ 0.0051,  0.0193, -0.0052,  ..., -0.0437, -0.0082, -0.0039],\n",
       "        [-0.0143,  0.0311,  0.0125,  ...,  0.0009, -0.0131, -0.0531],\n",
       "        [ 0.0110, -0.0108,  0.0508,  ..., -0.0026,  0.0138, -0.0033],\n",
       "        ...,\n",
       "        [-0.0406,  0.0192,  0.0293,  ..., -0.0078, -0.0231, -0.0044],\n",
       "        [-0.0192, -0.0023, -0.0092,  ..., -0.0520, -0.0204,  0.0116],\n",
       "        [ 0.0316, -0.0025,  0.0039,  ..., -0.0014, -0.0006,  0.0467]],\n",
       "       device='cuda:0', requires_grad=True)"
      ]
     },
     "execution_count": 27,
     "metadata": {},
     "output_type": "execute_result"
    }
   ],
   "source": [
    "nn.init.kaiming_normal_(learn.model[0].encoder.p)"
   ]
  },
  {
   "cell_type": "code",
   "execution_count": 28,
   "metadata": {},
   "outputs": [
    {
     "data": {
      "text/html": [],
      "text/plain": [
       "<IPython.core.display.HTML object>"
      ]
     },
     "metadata": {},
     "output_type": "display_data"
    }
   ],
   "source": [
    "preds, targs = learn.get_preds()"
   ]
  },
  {
   "cell_type": "code",
   "execution_count": 30,
   "metadata": {},
   "outputs": [
    {
     "data": {
      "text/plain": [
       "(tensor(564637.8750, device='cuda:0', grad_fn=<AddBackward0>), tensor(6.2451))"
      ]
     },
     "execution_count": 30,
     "metadata": {},
     "output_type": "execute_result"
    }
   ],
   "source": [
    "aza_loss(learn, preds, targs, debug=True)"
   ]
  },
  {
   "cell_type": "code",
   "execution_count": 31,
   "metadata": {},
   "outputs": [],
   "source": [
    "learn.loss_func = lambda preds, targs: aza_loss(learn, preds, targs)"
   ]
  },
  {
   "cell_type": "code",
   "execution_count": 30,
   "metadata": {},
   "outputs": [
    {
     "data": {
      "text/html": [
       "<table border=\"1\" class=\"dataframe\">\n",
       "  <thead>\n",
       "    <tr style=\"text-align: left;\">\n",
       "      <th>epoch</th>\n",
       "      <th>train_loss</th>\n",
       "      <th>valid_loss</th>\n",
       "      <th>accuracy</th>\n",
       "      <th>time</th>\n",
       "    </tr>\n",
       "  </thead>\n",
       "  <tbody>\n",
       "    <tr>\n",
       "      <td>0</td>\n",
       "      <td>3.020772</td>\n",
       "      <td>2.977226</td>\n",
       "      <td>0.403813</td>\n",
       "      <td>40:20</td>\n",
       "    </tr>\n",
       "  </tbody>\n",
       "</table>"
      ],
      "text/plain": [
       "<IPython.core.display.HTML object>"
      ]
     },
     "metadata": {},
     "output_type": "display_data"
    }
   ],
   "source": [
    "learn.fit_one_cycle(1, 1e-3,  moms=(0.8, 0.7, 0.8), wd=1e-7)"
   ]
  },
  {
   "cell_type": "code",
   "execution_count": 31,
   "metadata": {},
   "outputs": [],
   "source": [
    "# learn.save('pLSTM_en_permute_embeddings')"
   ]
  },
  {
   "cell_type": "code",
   "execution_count": 11,
   "metadata": {},
   "outputs": [
    {
     "data": {
      "text/plain": [
       "<fastai2.text.learner.LMLearner at 0x7fc7eadbd4d0>"
      ]
     },
     "execution_count": 11,
     "metadata": {},
     "output_type": "execute_result"
    }
   ],
   "source": [
    "learn.load('pLSTM_en_permute_embeddings')"
   ]
  },
  {
   "cell_type": "code",
   "execution_count": 13,
   "metadata": {},
   "outputs": [],
   "source": [
    "#export\n",
    "@patch_to(LMLearner)\n",
    "def hitInTopN(self, n=1, how_many=None):\n",
    "    data = self.model[0].encoder.p.data.argsort(descending=True)[10:10+how_many, :n]\n",
    "    hits = torch.any(data == torch.arange(10, how_many+10).reshape(-1,1).cuda(), -1)\n",
    "    return hits.float().mean().item()"
   ]
  },
  {
   "cell_type": "code",
   "execution_count": 14,
   "metadata": {},
   "outputs": [
    {
     "data": {
      "text/plain": [
       "(0.9899999499320984, 1.0)"
      ]
     },
     "execution_count": 14,
     "metadata": {},
     "output_type": "execute_result"
    }
   ],
   "source": [
    "learn.hitInTopN(1, 100), learn.hitInTopN(5, 100)"
   ]
  },
  {
   "cell_type": "code",
   "execution_count": 15,
   "metadata": {},
   "outputs": [],
   "source": [
    "acc1 = [(x, learn.hitInTopN(1, x)) for x in range(50,1500,200)]\n",
    "acc2 = [(x, learn.hitInTopN(2, x)) for x in range(50,1500,200)]\n",
    "acc3 = [(x, learn.hitInTopN(3, x)) for x in range(50,1500,200)]\n",
    "acc5 = [(x, learn.hitInTopN(5, x)) for x in range(50,1500,200)]\n",
    "acc10 = [(x, learn.hitInTopN(10, x)) for x in range(50,1500,200)]"
   ]
  },
  {
   "cell_type": "code",
   "execution_count": 16,
   "metadata": {},
   "outputs": [
    {
     "data": {
      "text/plain": [
       "<matplotlib.legend.Legend at 0x7fc7eaa834d0>"
      ]
     },
     "execution_count": 16,
     "metadata": {},
     "output_type": "execute_result"
    },
    {
     "data": {
      "image/png": "[encoded data removed]",
      "text/plain": [
       "<Figure size 1080x720 with 1 Axes>"
      ]
     },
     "metadata": {
      "needs_background": "light"
     },
     "output_type": "display_data"
    }
   ],
   "source": [
    "plt.figure(figsize=(15,10))\n",
    "plt.plot(*zip(*acc1))\n",
    "plt.plot(*zip(*acc2))\n",
    "plt.plot(*zip(*acc3))\n",
    "plt.plot(*zip(*acc5))\n",
    "plt.plot(*zip(*acc10))\n",
    "plt.legend([f'acc @ {x}' for x in [1,2,3,5,10]])"
   ]
  },
  {
   "cell_type": "code",
   "execution_count": 17,
   "metadata": {},
   "outputs": [],
   "source": [
    "#export\n",
    "@patch_to(LMLearner)\n",
    "def print_synonyms(self, start_idx, n):\n",
    "    data = self.model[0].encoder.p.data.argsort(descending=True)[:, :5]\n",
    "    print('actual word\\t\\tpredictions\\n')\n",
    "    for i in range(start_idx, start_idx+n):\n",
    "        print(f'{self.dbunch.vocab[i]}\\t\\t{[self.dbunch.vocab[idx] for idx in data[i]]}')"
   ]
  },
  {
   "cell_type": "code",
   "execution_count": 18,
   "metadata": {},
   "outputs": [
    {
     "name": "stdout",
     "output_type": "stream",
     "text": [
      "actual word\t\tpredictions\n",
      "\n",
      "two\t\t['two', 'three', 'four', 'few', 'five']\n",
      "or\t\t['or', 'nor', '&', 'and', '/']\n",
      "have\t\t['have', 've', 'has', 'shall', 'will']\n",
      "who\t\t['who', 'whom', 'whose', 'he', 'you']\n",
      "new\t\t['new', 'great', 'greater', 'larger', 'los']\n",
      "been\t\t['been', 'become', 'remained', 'being', 'come']\n",
      "has\t\t['has', 've', 'have', 'will', 'shall']\n",
      "@,@\t\t['@,@', '×', '<', 'xxrep', 'per']\n",
      "she\t\t['she', 'madonna', 'actress', 'neither', 'none']\n",
      "when\t\t['when', 'shortly', 'here', 'meanwhile', 'although']\n",
      "time\t\t['time', 'moment', 'way', 'times', 'reason']\n",
      "during\t\t['during', 'throughout', 'shortly', 'within', 'after']\n",
      "other\t\t['other', 'different', 'others', 'older', 'smaller']\n",
      "would\t\t['would', 'might', 'could', 'should', \"'ll\"]\n",
      "into\t\t['into', 'onto', 'across', 'toward', 'towards']\n",
      "all\t\t['all', 'every', 'any', 'both', 'those']\n",
      "i\t\t['i', 'we', 'doesn', '[', '<']\n",
      "more\t\t['more', 'less', 'relatively', 'very', 'much']\n",
      "0\t\t['0', '600', '500', '700', '400']\n",
      "while\t\t['while', 'whilst', 'whereas', 'although', 'shortly']\n"
     ]
    }
   ],
   "source": [
    "learn.print_synonyms(60, 20)"
   ]
  },
  {
   "cell_type": "code",
   "execution_count": 19,
   "metadata": {},
   "outputs": [
    {
     "name": "stdout",
     "output_type": "stream",
     "text": [
      "Converted 00_data.ipynb.\n",
      "Converted 01_train_LM_en.ipynb.\n",
      "Converted 01_train_LM_es.ipynb.\n",
      "Converted 99_index.ipynb.\n",
      "Converted language_play_v9.ipynb.\n",
      "Converted language_play_v9_mixer.ipynb.\n",
      "Converted language_play_v9_mixer_softmax.ipynb.\n"
     ]
    }
   ],
   "source": [
    "#hide\n",
    "from nbdev.export import notebook2script\n",
    "notebook2script()"
   ]
  }
 ],
 "metadata": {
  "kernelspec": {
   "display_name": "Python 3",
   "language": "python",
   "name": "python3"
  },
  "language_info": {
   "codemirror_mode": {
    "name": "ipython",
    "version": 3
   },
   "file_extension": ".py",
   "mimetype": "text/x-python",
   "name": "python",
   "nbconvert_exporter": "python",
   "pygments_lexer": "ipython3",
   "version": "3.7.5"
  }
 },
 "nbformat": 4,
 "nbformat_minor": 2
}
