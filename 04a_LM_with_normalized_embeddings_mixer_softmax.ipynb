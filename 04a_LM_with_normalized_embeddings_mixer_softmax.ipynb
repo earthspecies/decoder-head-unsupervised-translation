{
 "cells": [
  {
   "cell_type": "code",
   "execution_count": 2,
   "metadata": {},
   "outputs": [],
   "source": [
    "from fastai2.text.all import *"
   ]
  },
  {
   "cell_type": "markdown",
   "metadata": {},
   "source": [
    "In this notebook I traing an LM with normalization, softmax instead of linear combination of embeddings and 'the mixer' architecture (multiplying embeddings with the embedding matrix vs using the permutation matrix)."
   ]
  },
  {
   "cell_type": "code",
   "execution_count": 3,
   "metadata": {},
   "outputs": [],
   "source": [
    "vocab = make_vocab(pd.read_pickle('data/en-100_tok/counter.pkl'), max_vocab=4000)"
   ]
  },
  {
   "cell_type": "code",
   "execution_count": 4,
   "metadata": {},
   "outputs": [],
   "source": [
    "path = 'data/en-100_tok/'\n",
    "mult = 4\n",
    "bs = 80\n",
    "seq_len = 70\n",
    "\n",
    "lm = DataBlock(blocks=(TextBlock(vocab=vocab, is_lm=True),),\n",
    "                get_x=read_tokenized_file,\n",
    "                get_items=partial(get_text_files, folders=['train', 'valid']),\n",
    "                splitter=FuncSplitter(lambda itm: itm.parent.name == 'valid'))\n",
    "\n",
    "dbunch_lm = lm.databunch(path, path=path, bs=bs, seq_len=seq_len)"
   ]
  },
  {
   "cell_type": "code",
   "execution_count": 5,
   "metadata": {},
   "outputs": [],
   "source": [
    "#export core\n",
    "class PermuteEmbeddingMixerNorm(nn.Module):\n",
    "    def __init__(self, num_embeddings, embedding_dim, padding_idx):\n",
    "        super().__init__()\n",
    "        \n",
    "        self.num_embeddings = num_embeddings\n",
    "        self.embedding_dim = embedding_dim\n",
    "        self.padding_idx = padding_idx\n",
    "        \n",
    "        # to conform to nn.Embedding api\n",
    "        self.max_norm=None\n",
    "        self.norm_type=2.0\n",
    "        self.scale_grad_by_freq=False\n",
    "        self.sparse = False\n",
    "\n",
    "        self.weight = nn.Parameter( torch.Tensor(num_embeddings, embedding_dim) )\n",
    "        nn.init.kaiming_uniform_(self.weight)\n",
    "        \n",
    "        self.p_matrix_as_embeddings = nn.Embedding(self.num_embeddings, self.embedding_dim)\n",
    "        # this is a funny piece of code below - I believe I arrived at this via experimentation,\n",
    "        # seeing what values would work when fed into the softmax (to give 0 mean and std dev of 1)\n",
    "        self.p_matrix_as_embeddings.weight = nn.Parameter(torch.eye(self.num_embeddings) * 45 - 0.0075)\n",
    "        self.p_matrix_as_embeddings.weight.requires_grad = False\n",
    "        \n",
    "    def forward(self, words):\n",
    "        return self.p_matrix_as_embeddings(words).softmax(-1) @ self.normalized_weight()      \n",
    "    \n",
    "    def normalized_weight(self):\n",
    "        w1 = self.weight / self.weight.norm(dim=1).unsqueeze(1)\n",
    "        w2 = w1 - w1.mean(0)\n",
    "        w3 = w2 / w2.norm(dim=1).unsqueeze(1)\n",
    "        return w3\n",
    "        \n",
    "    def reset_parameters(self): pass"
   ]
  },
  {
   "cell_type": "markdown",
   "metadata": {},
   "source": [
    "We need to define a new architecture that will be using our new encoder"
   ]
  },
  {
   "cell_type": "code",
   "execution_count": 6,
   "metadata": {},
   "outputs": [],
   "source": [
    "#export core\n",
    "class p_mixer_normAWD_LSTM(AWD_LSTM):\n",
    "    def __init__(self, vocab_sz, emb_sz, n_hid, n_layers, pad_token=1, hidden_p=0.2, input_p=0.6, embed_p=0.1,\n",
    "                 weight_p=0.5, bidir=False, packed=False):\n",
    "        store_attr(self, 'emb_sz,n_hid,n_layers,pad_token,packed')\n",
    "        self.bs = 1\n",
    "        self.n_dir = 2 if bidir else 1\n",
    "        self.encoder = PermuteEmbeddingMixerNorm(vocab_sz, emb_sz, padding_idx=pad_token)\n",
    "        self.encoder_dp = self.encoder \n",
    "        self.rnns = nn.ModuleList([self._one_rnn(emb_sz if l == 0 else n_hid, (n_hid if l != n_layers - 1 else emb_sz)//self.n_dir,\n",
    "                                                 bidir, weight_p, l) for l in range(n_layers)])\n",
    "        self.encoder.weight.data.uniform_(-self.initrange, self.initrange)\n",
    "        self.input_dp = RNNDropout(input_p)\n",
    "        self.hidden_dps = nn.ModuleList([RNNDropout(hidden_p) for l in range(n_layers)])"
   ]
  },
  {
   "cell_type": "code",
   "execution_count": 7,
   "metadata": {},
   "outputs": [],
   "source": [
    "#export core\n",
    "import fastai2\n",
    "fastai2.text.models.core._model_meta[p_mixer_normAWD_LSTM] = fastai2.text.models.core._model_meta[AWD_LSTM]"
   ]
  },
  {
   "cell_type": "code",
   "execution_count": 8,
   "metadata": {},
   "outputs": [],
   "source": [
    "#export core\n",
    "\n",
    "# TODO: add gradient clipping of 0.12 at some point\n",
    "\n",
    "def opt(params, lr):\n",
    "    return Adam(params, lr, mom=0.8, sqr_mom=0.99)\n",
    "\n",
    "drops = np.array([0.25, 0.1, 0.2, 0.02, 0.15])\n",
    "\n",
    "config = dict(\n",
    "    emb_sz=100,\n",
    "    n_hid=1150,\n",
    "    n_layers=3,\n",
    "    input_p=drops[0],\n",
    "    hidden_p=drops[1],\n",
    "    weight_p=drops[2],\n",
    "    embed_p=drops[3])\n",
    "\n",
    "awd_lstm_lm_config.update(config)"
   ]
  },
  {
   "cell_type": "code",
   "execution_count": 9,
   "metadata": {},
   "outputs": [],
   "source": [
    "learn = language_model_learner(\n",
    "    dbunch_lm,\n",
    "    p_mixer_normAWD_LSTM,\n",
    "    opt_func=opt,\n",
    "    pretrained=False,\n",
    "    config=awd_lstm_lm_config,\n",
    "    drop_mult=0.1,\n",
    "    metrics=[accuracy]\n",
    ")"
   ]
  },
  {
   "cell_type": "code",
   "execution_count": 10,
   "metadata": {},
   "outputs": [
    {
     "name": "stdout",
     "output_type": "stream",
     "text": [
      "epoch     train_loss  valid_loss  accuracy  time    \n",
      "0         2.945931    2.864700    0.421802  45:32     \n"
     ]
    }
   ],
   "source": [
    "learn.fit_one_cycle(1, 5e-3,  moms=(0.8, 0.7, 0.8), wd=1e-7)"
   ]
  },
  {
   "cell_type": "code",
   "execution_count": 11,
   "metadata": {},
   "outputs": [
    {
     "data": {
      "image/png": "[encoded data removed]",
      "text/plain": [
       "<Figure size 432x288 with 1 Axes>"
      ]
     },
     "metadata": {
      "needs_background": "light"
     },
     "output_type": "display_data"
    }
   ],
   "source": [
    "learn.recorder.plot_loss()"
   ]
  },
  {
   "cell_type": "code",
   "execution_count": 12,
   "metadata": {},
   "outputs": [],
   "source": [
    "# learn.save('pLSTM_mixer_softmax_en')"
   ]
  },
  {
   "cell_type": "code",
   "execution_count": 10,
   "metadata": {},
   "outputs": [
    {
     "data": {
      "text/plain": [
       "<fastai2.text.learner.LMLearner at 0x7f085ce2f110>"
      ]
     },
     "execution_count": 10,
     "metadata": {},
     "output_type": "execute_result"
    }
   ],
   "source": [
    "learn.load('pLSTM_mixer_softmax_en')"
   ]
  },
  {
   "cell_type": "code",
   "execution_count": 11,
   "metadata": {},
   "outputs": [
    {
     "name": "stdout",
     "output_type": "stream",
     "text": [
      "█\r"
     ]
    },
    {
     "data": {
      "text/plain": [
       "(#2) [2.8647000789642334,0.4218016564846039]"
      ]
     },
     "execution_count": 11,
     "metadata": {},
     "output_type": "execute_result"
    }
   ],
   "source": [
    "learn.validate()"
   ]
  },
  {
   "cell_type": "code",
   "execution_count": 12,
   "metadata": {},
   "outputs": [
    {
     "name": "stdout",
     "output_type": "stream",
     "text": [
      "█\r"
     ]
    },
    {
     "data": {
      "text/plain": [
       "'This is the only time date that life had occurred in every African Nation . In the late 1970s'"
      ]
     },
     "execution_count": 12,
     "metadata": {},
     "output_type": "execute_result"
    }
   ],
   "source": [
    "learn.predict('This is', n_words=20)"
   ]
  },
  {
   "cell_type": "code",
   "execution_count": 13,
   "metadata": {},
   "outputs": [],
   "source": [
    "import warnings\n",
    "\n",
    "@patch_to(LMLearner)\n",
    "def optimize_permutation(self):\n",
    "    with warnings.catch_warnings():\n",
    "        warnings.simplefilter(\"ignore\")\n",
    "        self.freeze_to(4)\n",
    "    learn.model[0].encoder.p_matrix_as_embeddings.weight.requires_grad = True\n",
    "    \n",
    "@patch_to(LMLearner)\n",
    "def optimize_model(self):\n",
    "    self.unfreeze()\n",
    "    learn.model[0].encoder.p_matrix_as_embeddings.weight.requires_grad = False"
   ]
  },
  {
   "cell_type": "code",
   "execution_count": 14,
   "metadata": {},
   "outputs": [],
   "source": [
    "learn.optimize_permutation()"
   ]
  },
  {
   "cell_type": "code",
   "execution_count": 15,
   "metadata": {},
   "outputs": [
    {
     "name": "stdout",
     "output_type": "stream",
     "text": [
      "█\r"
     ]
    }
   ],
   "source": [
    "preds, targs = learn.get_preds()"
   ]
  },
  {
   "cell_type": "code",
   "execution_count": 16,
   "metadata": {},
   "outputs": [],
   "source": [
    "def loss():\n",
    "    preds = []\n",
    "    targs = []\n",
    "\n",
    "    learn.model.eval()\n",
    "    with torch.no_grad():\n",
    "        for b in learn.dbunch.valid_dl:\n",
    "            preds.append(learn.model(b[0])[0].detach().cpu())\n",
    "            targs.append(b[1].detach().cpu())\n",
    "\n",
    "    preds = torch.cat(preds, 1)\n",
    "    targs = torch.cat(targs, 1)\n",
    "    \n",
    "    return CrossEntropyLossFlat()(preds, targs).item(), accuracy(preds,targs).item()"
   ]
  },
  {
   "cell_type": "code",
   "execution_count": 17,
   "metadata": {},
   "outputs": [
    {
     "data": {
      "text/plain": [
       "(2.868626594543457, 0.42139682173728943)"
      ]
     },
     "execution_count": 17,
     "metadata": {},
     "output_type": "execute_result"
    }
   ],
   "source": [
    "loss()"
   ]
  },
  {
   "cell_type": "code",
   "execution_count": 18,
   "metadata": {},
   "outputs": [
    {
     "data": {
      "text/plain": [
       "Parameter containing:\n",
       "tensor([[-0.0255,  0.0049, -0.0199,  ...,  0.0081,  0.0082, -0.0131],\n",
       "        [-0.0806, -0.0334, -0.0124,  ...,  0.0132,  0.0270, -0.0086],\n",
       "        [-0.0216, -0.0060,  0.0199,  ...,  0.0008, -0.0161,  0.0311],\n",
       "        ...,\n",
       "        [-0.0165,  0.0041, -0.0146,  ...,  0.0312, -0.0317,  0.0011],\n",
       "        [-0.0096, -0.0197,  0.0149,  ..., -0.0441,  0.0190,  0.0294],\n",
       "        [-0.0139, -0.0188, -0.0052,  ...,  0.0046,  0.0004, -0.0044]],\n",
       "       device='cuda:0', requires_grad=True)"
      ]
     },
     "execution_count": 18,
     "metadata": {},
     "output_type": "execute_result"
    }
   ],
   "source": [
    "nn.init.kaiming_normal_(learn.model[0].encoder.p_matrix_as_embeddings.weight)"
   ]
  },
  {
   "cell_type": "code",
   "execution_count": 19,
   "metadata": {},
   "outputs": [
    {
     "data": {
      "text/plain": [
       "(6.330158233642578, 0.12923015654087067)"
      ]
     },
     "execution_count": 19,
     "metadata": {},
     "output_type": "execute_result"
    }
   ],
   "source": [
    "loss()"
   ]
  },
  {
   "cell_type": "code",
   "execution_count": 20,
   "metadata": {},
   "outputs": [
    {
     "name": "stdout",
     "output_type": "stream",
     "text": [
      "epoch     train_loss  valid_loss  accuracy  time    \n",
      "0         3.117240    3.055560    0.395325  40:27     \n",
      "1         3.107133    3.051492    0.396194  40:26     \n",
      "2         3.132933    3.049636    0.396222  40:27     \n",
      "3         3.124028    3.049331    0.396321  40:27     \n",
      "4         3.111895    3.049681    0.396520  40:28     \n"
     ]
    }
   ],
   "source": [
    "learn.fit(5, 1e-1)"
   ]
  },
  {
   "cell_type": "code",
   "execution_count": 21,
   "metadata": {},
   "outputs": [],
   "source": [
    "learn.save('pLSTM_mixer_softmax_p_embs_en')"
   ]
  },
  {
   "cell_type": "code",
   "execution_count": 22,
   "metadata": {},
   "outputs": [],
   "source": [
    "def hitInTopN(n=1, how_many=None, prints=True):\n",
    "    data = learn.model[0].encoder.p_matrix_as_embeddings.weight.argsort(descending=True)[10:10+how_many, :n]\n",
    "    hits = torch.any(data == torch.arange(10, how_many+10).reshape(-1,1).cuda(), -1)\n",
    "    return hits.float().mean().item()"
   ]
  },
  {
   "cell_type": "code",
   "execution_count": 23,
   "metadata": {},
   "outputs": [
    {
     "data": {
      "text/plain": [
       "(0.8999999761581421, 0.9399999976158142)"
      ]
     },
     "execution_count": 23,
     "metadata": {},
     "output_type": "execute_result"
    }
   ],
   "source": [
    "hitInTopN(1, 100), hitInTopN(5, 100)"
   ]
  },
  {
   "cell_type": "code",
   "execution_count": 24,
   "metadata": {},
   "outputs": [],
   "source": [
    "acc1 = [(x, hitInTopN(1, x)) for x in range(50,1500,200)]\n",
    "acc2 = [(x, hitInTopN(2, x)) for x in range(50,1500,200)]\n",
    "acc3 = [(x, hitInTopN(3, x)) for x in range(50,1500,200)]\n",
    "acc5 = [(x, hitInTopN(5, x)) for x in range(50,1500,200)]\n",
    "acc10 = [(x, hitInTopN(10, x)) for x in range(50,1500,200)]"
   ]
  },
  {
   "cell_type": "code",
   "execution_count": 25,
   "metadata": {},
   "outputs": [
    {
     "data": {
      "text/plain": [
       "<matplotlib.legend.Legend at 0x7f085c38e7d0>"
      ]
     },
     "execution_count": 25,
     "metadata": {},
     "output_type": "execute_result"
    },
    {
     "data": {
      "image/png": "[encoded data removed]",
      "text/plain": [
       "<Figure size 1080x720 with 1 Axes>"
      ]
     },
     "metadata": {
      "needs_background": "light"
     },
     "output_type": "display_data"
    }
   ],
   "source": [
    "plt.figure(figsize=(15,10))\n",
    "plt.plot(*zip(*acc1))\n",
    "plt.plot(*zip(*acc2))\n",
    "plt.plot(*zip(*acc3))\n",
    "plt.plot(*zip(*acc5))\n",
    "plt.plot(*zip(*acc10))\n",
    "plt.legend([f'acc @ {x}' for x in [1,2,3,5,10]])"
   ]
  },
  {
   "cell_type": "code",
   "execution_count": 26,
   "metadata": {},
   "outputs": [
    {
     "name": "stdout",
     "output_type": "stream",
     "text": [
      "actual word\t\tpredictions\n",
      "\n",
      "two\t\t['two', 'a', 'another', 'one', 'an']\n",
      "or\t\t['nor', 'xxmaj', 'or', '-', 'and']\n",
      "have\t\t['have', 'u.s', 'mrs', 'ways', 'dr']\n",
      "who\t\t['who', 'vice', 'duke', 'prince', 'jones']\n",
      "new\t\t['new', 'united', 'six', 'seven', 'nine']\n",
      "been\t\t['was', 'fallen', 'severely', 'widely', 'been']\n",
      "has\t\t['has', 'serves', 'wasn', 'doesn', 'acts']\n",
      "@,@\t\t['@,@', 'kilometres', '<', 'km2', 'km']\n",
      "she\t\t['she', 'lisa', 'madonna', 'bart', 'beyoncé']\n",
      "when\t\t['when', 'at', 'shortly', 'during', 'after']\n",
      "time\t\t['time', 'badly', 'night', 'shortly', 'straight']\n",
      "during\t\t['during', 'in', 'at', 'was', 'en']\n",
      "other\t\t['other', 'very', 'too', 'extremely', 'another']\n",
      "would\t\t['would', 'upon', 'towards', 'helped', 'toward']\n",
      "into\t\t['into', 'handed', 'enters', 'toward', 'seriously']\n",
      "all\t\t['all', 'every', 'any', 'what', 'our']\n",
      "i\t\t['i', '<', 'you', 'r', 'f']\n",
      "more\t\t['more', 'highly', 'a', 'so', 'an']\n",
      "0\t\t['50', '1', 'xxrep', '3', '2']\n",
      "while\t\t['whilst', 'six', 'four', 'five', 'three']\n"
     ]
    }
   ],
   "source": [
    "data = learn.model[0].encoder.p_matrix_as_embeddings.weight.argsort(descending=True)[:, :5]\n",
    "print('actual word\\t\\tpredictions\\n')\n",
    "for i in range(60, 80):\n",
    "    print(f'{learn.dbunch.vocab[i]}\\t\\t{[learn.dbunch.vocab[idx] for idx in data[i]]}')"
   ]
  },
  {
   "cell_type": "code",
   "execution_count": 1,
   "metadata": {},
   "outputs": [
    {
     "name": "stdout",
     "output_type": "stream",
     "text": [
      "Converted 00_data.ipynb.\n",
      "Converted 01_train_LM_en.ipynb.\n",
      "Converted 02_train_LM_es.ipynb.\n",
      "Converted 03_translate_en_to_es.ipynb.\n",
      "Converted 04_LM_with_normalized_embeddings.ipynb.\n",
      "Converted 04a_LM_with_normalized_embeddings_mixer_softmax.ipynb.\n",
      "Converted 05_aligning_the_embeddings_using_vecmap.ipynb.\n",
      "Converted 99_index.ipynb.\n",
      "Converted Untitled.ipynb.\n"
     ]
    }
   ],
   "source": [
    "#hide\n",
    "from nbdev.export import notebook2script\n",
    "notebook2script()"
   ]
  }
 ],
 "metadata": {
  "kernelspec": {
   "display_name": "Python 3",
   "language": "python",
   "name": "python3"
  },
  "language_info": {
   "codemirror_mode": {
    "name": "ipython",
    "version": 3
   },
   "file_extension": ".py",
   "mimetype": "text/x-python",
   "name": "python",
   "nbconvert_exporter": "python",
   "pygments_lexer": "ipython3",
   "version": "3.7.5"
  }
 },
 "nbformat": 4,
 "nbformat_minor": 2
}
