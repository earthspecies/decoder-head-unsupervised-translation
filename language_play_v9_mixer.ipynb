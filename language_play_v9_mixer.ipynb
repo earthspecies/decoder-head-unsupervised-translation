{
 "cells": [
  {
   "cell_type": "code",
   "execution_count": 1,
   "metadata": {},
   "outputs": [],
   "source": [
    "from fastai2.text.all import *"
   ]
  },
  {
   "cell_type": "markdown",
   "metadata": {},
   "source": [
    "## Create databunch form LM"
   ]
  },
  {
   "cell_type": "code",
   "execution_count": 2,
   "metadata": {},
   "outputs": [],
   "source": [
    "BPTT=10\n",
    "BS=64\n",
    "\n",
    "EN_FILE = Path('data/en-clean.txt')\n",
    "EN_TEXT = EN_FILE.read()[1:].replace('\\n', '').replace('  ', ' ')"
   ]
  },
  {
   "cell_type": "code",
   "execution_count": 3,
   "metadata": {},
   "outputs": [],
   "source": [
    "toks = tokenize1(EN_TEXT)"
   ]
  },
  {
   "cell_type": "code",
   "execution_count": 4,
   "metadata": {},
   "outputs": [
    {
     "data": {
      "text/plain": [
       "(#10) ['xxbos','the','project','gutenberg','ebook','of','peter','pan',',','by']"
      ]
     },
     "execution_count": 4,
     "metadata": {},
     "output_type": "execute_result"
    }
   ],
   "source": [
    "toks[:10]"
   ]
  },
  {
   "cell_type": "code",
   "execution_count": 5,
   "metadata": {},
   "outputs": [
    {
     "data": {
      "text/plain": [
       "2008"
      ]
     },
     "execution_count": 5,
     "metadata": {},
     "output_type": "execute_result"
    }
   ],
   "source": [
    "vocab = make_vocab(Counter(toks), min_freq=3, max_vocab=2000)\n",
    "\n",
    "len(vocab)"
   ]
  },
  {
   "cell_type": "code",
   "execution_count": 6,
   "metadata": {},
   "outputs": [
    {
     "data": {
      "text/plain": [
       "['xxunk',\n",
       " 'xxpad',\n",
       " 'xxbos',\n",
       " 'xxeos',\n",
       " 'xxfld',\n",
       " 'xxrep',\n",
       " 'xxwrep',\n",
       " 'xxup',\n",
       " 'xxmaj',\n",
       " ',',\n",
       " '.',\n",
       " 'the',\n",
       " 'and',\n",
       " 'to',\n",
       " 'a']"
      ]
     },
     "execution_count": 6,
     "metadata": {},
     "output_type": "execute_result"
    }
   ],
   "source": [
    "vocab[:15]"
   ]
  },
  {
   "cell_type": "code",
   "execution_count": 7,
   "metadata": {},
   "outputs": [],
   "source": [
    "# arbitrary way of splitting text into 'examples', would probably be better to split by chapters\n",
    "# or something along these lines but shouldn't make much of a difference\n",
    "txts = np.array_split(EN_TEXT.split(), 100)"
   ]
  },
  {
   "cell_type": "code",
   "execution_count": 8,
   "metadata": {},
   "outputs": [],
   "source": [
    "dblock = DataBlock(blocks=(TextBlock(vocab, is_lm=True)), splitter=RandomSplitter(seed=42))"
   ]
  },
  {
   "cell_type": "code",
   "execution_count": 9,
   "metadata": {},
   "outputs": [],
   "source": [
    "dbunch_lm = dblock.databunch(txts, seq_len=BPTT, bs=BS) "
   ]
  },
  {
   "cell_type": "code",
   "execution_count": 10,
   "metadata": {},
   "outputs": [
    {
     "data": {
      "text/plain": [
       "torch.Size([64, 10])"
      ]
     },
     "execution_count": 10,
     "metadata": {},
     "output_type": "execute_result"
    }
   ],
   "source": [
    "dbunch_lm.one_batch()[0].shape"
   ]
  },
  {
   "cell_type": "code",
   "execution_count": 11,
   "metadata": {},
   "outputs": [
    {
     "data": {
      "text/plain": [
       "tensor(0.1104)"
      ]
     },
     "execution_count": 11,
     "metadata": {},
     "output_type": "execute_result"
    }
   ],
   "source": [
    "# % of unknown tokens\n",
    "torch.mean((torch.cat([tup[0] for tup in dbunch_lm.valid_ds]) == 0).float())"
   ]
  },
  {
   "cell_type": "markdown",
   "metadata": {},
   "source": [
    "## Train LM"
   ]
  },
  {
   "cell_type": "code",
   "execution_count": 12,
   "metadata": {},
   "outputs": [],
   "source": [
    "# def loss():\n",
    "#     preds = []\n",
    "#     targs = []\n",
    "\n",
    "#     learn.model.eval()\n",
    "#     with torch.no_grad():\n",
    "#         for b in learn.dbunch.valid_dl:\n",
    "#             preds.append(learn.model(b[0])[0])\n",
    "#             targs.append(b[1])\n",
    "\n",
    "#     preds = torch.cat(preds, 1)\n",
    "#     targs = torch.cat(targs, 1)\n",
    "    \n",
    "#     return CrossEntropyLossFlat()(preds, targs).item(), accuracy(preds,targs).item()"
   ]
  },
  {
   "cell_type": "code",
   "execution_count": 13,
   "metadata": {},
   "outputs": [],
   "source": [
    "class PermuteEmbedding(nn.Module):\n",
    "    def __init__(self, num_embeddings, embedding_dim, padding_idx):\n",
    "        super().__init__()\n",
    "        \n",
    "        self.num_embeddings = num_embeddings\n",
    "        self.embedding_dim = embedding_dim\n",
    "        self.padding_idx = padding_idx\n",
    "        \n",
    "        # to conform to nn.Embedding api\n",
    "        self.max_norm=None\n",
    "        self.norm_type=2.0\n",
    "        self.scale_grad_by_freq=False\n",
    "        self.sparse = False\n",
    "\n",
    "        self.weight = nn.Parameter( torch.Tensor(num_embeddings, embedding_dim) ) # these are embeddings!\n",
    "        \n",
    "        self.p_matrix_as_embeddings = nn.Embedding(self.num_embeddings, self.embedding_dim)\n",
    "        self.p_matrix_as_embeddings.weight = nn.Parameter(torch.eye(self.num_embeddings))\n",
    "        self.p_matrix_as_embeddings.weight.requires_grad = False\n",
    "        \n",
    "    def forward(self, words):\n",
    "#         set_trace()\n",
    "        return self.p_matrix_as_embeddings(words) @ self.weight\n",
    "    \n",
    "    def reset_parameters(self): pass"
   ]
  },
  {
   "cell_type": "code",
   "execution_count": 14,
   "metadata": {},
   "outputs": [],
   "source": [
    "class pAWD_LSTM(AWD_LSTM):\n",
    "    def __init__(self, vocab_sz, emb_sz, n_hid, n_layers, pad_token=1, hidden_p=0.2, input_p=0.6, embed_p=0.1,\n",
    "                 weight_p=0.5, bidir=False, packed=False):\n",
    "        store_attr(self, 'emb_sz,n_hid,n_layers,pad_token,packed')\n",
    "        self.bs = 1\n",
    "        self.n_dir = 2 if bidir else 1\n",
    "#         self.encoder = nn.Embedding(vocab_sz, emb_sz, padding_idx=pad_token)\n",
    "        self.encoder = PermuteEmbedding(vocab_sz, emb_sz, padding_idx=pad_token)\n",
    "#         self.encoder_dp = EmbeddingDropout(self.encoder, embed_p)\n",
    "        self.encoder_dp = self.encoder # chosing to train without embedding dropout (to reduce code complexity + not sure it makes a lot of sense for what we want to do anyhow) \n",
    "        self.rnns = nn.ModuleList([self._one_rnn(emb_sz if l == 0 else n_hid, (n_hid if l != n_layers - 1 else emb_sz)//self.n_dir,\n",
    "                                                 bidir, weight_p, l) for l in range(n_layers)])\n",
    "        self.encoder.weight.data.uniform_(-self.initrange, self.initrange)\n",
    "        self.input_dp = RNNDropout(input_p)\n",
    "        self.hidden_dps = nn.ModuleList([RNNDropout(hidden_p) for l in range(n_layers)])"
   ]
  },
  {
   "cell_type": "code",
   "execution_count": 15,
   "metadata": {},
   "outputs": [],
   "source": [
    "import fastai2\n",
    "fastai2.text.models.core._model_meta[pAWD_LSTM] = fastai2.text.models.core._model_meta[AWD_LSTM]"
   ]
  },
  {
   "cell_type": "code",
   "execution_count": 16,
   "metadata": {},
   "outputs": [],
   "source": [
    "WD=1e-7\n",
    "\n",
    "def opt(params, lr):\n",
    "    return Adam(params, lr, mom=0.8, sqr_mom=0.99)\n",
    "\n",
    "drops = np.array([0.25, 0.1, 0.2, 0.02, 0.15])\n",
    "\n",
    "config = dict(\n",
    "    emb_sz=100,\n",
    "    n_hid=1024,\n",
    "    n_layers=3,\n",
    "    input_p=drops[0],\n",
    "    hidden_p=drops[1],\n",
    "    weight_p=drops[2],\n",
    "    embed_p=drops[3])\n",
    "\n",
    "awd_lstm_lm_config.update(config)\n",
    "\n",
    "learn = language_model_learner(\n",
    "    dbunch_lm,\n",
    "    pAWD_LSTM,\n",
    "    opt_func=opt,\n",
    "    pretrained=False,\n",
    "    config=awd_lstm_lm_config,\n",
    "    drop_mult=0.2,\n",
    "    metrics=[accuracy, Perplexity()]\n",
    ")"
   ]
  },
  {
   "cell_type": "code",
   "execution_count": 17,
   "metadata": {},
   "outputs": [
    {
     "data": {
      "text/html": [
       "<table border=\"1\" class=\"dataframe\">\n",
       "  <thead>\n",
       "    <tr style=\"text-align: left;\">\n",
       "      <th>epoch</th>\n",
       "      <th>train_loss</th>\n",
       "      <th>valid_loss</th>\n",
       "      <th>accuracy</th>\n",
       "      <th>perplexity</th>\n",
       "      <th>time</th>\n",
       "    </tr>\n",
       "  </thead>\n",
       "  <tbody>\n",
       "    <tr>\n",
       "      <td>0</td>\n",
       "      <td>5.487010</td>\n",
       "      <td>5.218735</td>\n",
       "      <td>0.124805</td>\n",
       "      <td>184.700348</td>\n",
       "      <td>00:10</td>\n",
       "    </tr>\n",
       "    <tr>\n",
       "      <td>1</td>\n",
       "      <td>5.062149</td>\n",
       "      <td>4.800918</td>\n",
       "      <td>0.173785</td>\n",
       "      <td>121.621971</td>\n",
       "      <td>00:10</td>\n",
       "    </tr>\n",
       "    <tr>\n",
       "      <td>2</td>\n",
       "      <td>4.788030</td>\n",
       "      <td>4.555896</td>\n",
       "      <td>0.204188</td>\n",
       "      <td>95.192039</td>\n",
       "      <td>00:10</td>\n",
       "    </tr>\n",
       "    <tr>\n",
       "      <td>3</td>\n",
       "      <td>4.619162</td>\n",
       "      <td>4.407209</td>\n",
       "      <td>0.222027</td>\n",
       "      <td>82.040199</td>\n",
       "      <td>00:11</td>\n",
       "    </tr>\n",
       "    <tr>\n",
       "      <td>4</td>\n",
       "      <td>4.470920</td>\n",
       "      <td>4.311631</td>\n",
       "      <td>0.232075</td>\n",
       "      <td>74.561981</td>\n",
       "      <td>00:11</td>\n",
       "    </tr>\n",
       "    <tr>\n",
       "      <td>5</td>\n",
       "      <td>4.370491</td>\n",
       "      <td>4.220758</td>\n",
       "      <td>0.240082</td>\n",
       "      <td>68.085068</td>\n",
       "      <td>00:11</td>\n",
       "    </tr>\n",
       "    <tr>\n",
       "      <td>6</td>\n",
       "      <td>4.255107</td>\n",
       "      <td>4.160259</td>\n",
       "      <td>0.244488</td>\n",
       "      <td>64.088104</td>\n",
       "      <td>00:11</td>\n",
       "    </tr>\n",
       "    <tr>\n",
       "      <td>7</td>\n",
       "      <td>4.192817</td>\n",
       "      <td>4.109135</td>\n",
       "      <td>0.248003</td>\n",
       "      <td>60.894001</td>\n",
       "      <td>00:11</td>\n",
       "    </tr>\n",
       "    <tr>\n",
       "      <td>8</td>\n",
       "      <td>4.094905</td>\n",
       "      <td>4.066043</td>\n",
       "      <td>0.255534</td>\n",
       "      <td>58.325733</td>\n",
       "      <td>00:11</td>\n",
       "    </tr>\n",
       "    <tr>\n",
       "      <td>9</td>\n",
       "      <td>4.000208</td>\n",
       "      <td>4.054609</td>\n",
       "      <td>0.253494</td>\n",
       "      <td>57.662628</td>\n",
       "      <td>00:10</td>\n",
       "    </tr>\n",
       "  </tbody>\n",
       "</table>"
      ],
      "text/plain": [
       "<IPython.core.display.HTML object>"
      ]
     },
     "metadata": {},
     "output_type": "display_data"
    }
   ],
   "source": [
    "learn.fit(10, 1e-3)"
   ]
  },
  {
   "cell_type": "code",
   "execution_count": 125,
   "metadata": {},
   "outputs": [],
   "source": [
    "# learn.save('pLSTM_mixer_10epochs')"
   ]
  },
  {
   "cell_type": "code",
   "execution_count": 296,
   "metadata": {},
   "outputs": [
    {
     "data": {
      "text/plain": [
       "<fastai2.text.learner.LMLearner at 0x7f06d9f2b550>"
      ]
     },
     "execution_count": 296,
     "metadata": {},
     "output_type": "execute_result"
    }
   ],
   "source": [
    "learn.load('pLSTM_mixer_10epochs')"
   ]
  },
  {
   "cell_type": "code",
   "execution_count": 291,
   "metadata": {},
   "outputs": [
    {
     "data": {
      "text/html": [],
      "text/plain": [
       "<IPython.core.display.HTML object>"
      ]
     },
     "metadata": {},
     "output_type": "display_data"
    },
    {
     "data": {
      "text/plain": [
       "'peter was a sunday of'"
      ]
     },
     "execution_count": 291,
     "metadata": {},
     "output_type": "execute_result"
    }
   ],
   "source": [
    "learn.predict('peter was', n_words=3, temperature=0.5)"
   ]
  },
  {
   "cell_type": "code",
   "execution_count": 297,
   "metadata": {},
   "outputs": [],
   "source": [
    "import warnings\n",
    "\n",
    "@patch_to(LMLearner)\n",
    "def optimize_permutation(self):\n",
    "    with warnings.catch_warnings():\n",
    "        warnings.simplefilter(\"ignore\")\n",
    "        self.freeze_to(4)\n",
    "    learn.model[0].encoder.p_matrix_as_embeddings.weight.requires_grad = True\n",
    "    \n",
    "@patch_to(LMLearner)\n",
    "def optimize_model(self):\n",
    "    self.unfreeze()\n",
    "    learn.model[0].encoder.p_matrix_as_embeddings.weight.requires_grad = False"
   ]
  },
  {
   "cell_type": "code",
   "execution_count": 298,
   "metadata": {},
   "outputs": [],
   "source": [
    "learn.optimize_permutation()"
   ]
  },
  {
   "cell_type": "code",
   "execution_count": 299,
   "metadata": {},
   "outputs": [],
   "source": [
    "def aza_loss(input=None, target=None, scaling_factor=5/2000, debug=False):\n",
    "    p = learn.model[0].encoder.p_matrix_as_embeddings.weight\n",
    "    sums_to_one = (1-p.abs().sum(dim=0)).abs().sum() + (1-p.abs().sum(dim=1)).abs().sum()\n",
    "#     extremize = (1-p.max(dim=0)[0]).abs().sum() + (1-p.max(dim=1)[0]).abs().sum() # + (p.min(dim=0)[0]).abs().max()#(10*(1-p.max()).abs()) + (10*p.min()).abs()\n",
    "    the_model = CrossEntropyLossFlat()(input, target)\n",
    "    if debug: return sums_to_one, the_model\n",
    "    else:     return scaling_factor * sums_to_one + (1 - scaling_factor) * the_model"
   ]
  },
  {
   "cell_type": "code",
   "execution_count": 300,
   "metadata": {},
   "outputs": [],
   "source": [
    "learn.loss_func = aza_loss"
   ]
  },
  {
   "cell_type": "code",
   "execution_count": 301,
   "metadata": {},
   "outputs": [
    {
     "data": {
      "text/plain": [
       "Parameter containing:\n",
       "tensor([[1., 0., 0.,  ..., 0., 0., 0.],\n",
       "        [0., 1., 0.,  ..., 0., 0., 0.],\n",
       "        [0., 0., 1.,  ..., 0., 0., 0.],\n",
       "        ...,\n",
       "        [0., 0., 0.,  ..., 1., 0., 0.],\n",
       "        [0., 0., 0.,  ..., 0., 1., 0.],\n",
       "        [0., 0., 0.,  ..., 0., 0., 1.]], device='cuda:0', requires_grad=True)"
      ]
     },
     "execution_count": 301,
     "metadata": {},
     "output_type": "execute_result"
    }
   ],
   "source": [
    "learn.model[0].encoder.p_matrix_as_embeddings.weight"
   ]
  },
  {
   "cell_type": "code",
   "execution_count": 302,
   "metadata": {},
   "outputs": [
    {
     "data": {
      "text/html": [],
      "text/plain": [
       "<IPython.core.display.HTML object>"
      ]
     },
     "metadata": {},
     "output_type": "display_data"
    }
   ],
   "source": [
    "preds, targs = learn.get_preds()"
   ]
  },
  {
   "cell_type": "code",
   "execution_count": 303,
   "metadata": {},
   "outputs": [
    {
     "data": {
      "text/plain": [
       "(tensor(0., device='cuda:0', grad_fn=<AddBackward0>), tensor(4.0356))"
      ]
     },
     "execution_count": 303,
     "metadata": {},
     "output_type": "execute_result"
    }
   ],
   "source": [
    "aza_loss(preds, targs, debug=True)"
   ]
  },
  {
   "cell_type": "code",
   "execution_count": 304,
   "metadata": {},
   "outputs": [
    {
     "data": {
      "text/plain": [
       "Parameter containing:\n",
       "tensor([[-0.0202,  0.0200,  0.0200,  ..., -0.0202, -0.0023,  0.0671],\n",
       "        [ 0.0682, -0.0127, -0.0102,  ...,  0.0011,  0.0141, -0.0238],\n",
       "        [ 0.0411, -0.0501, -0.0105,  ...,  0.0349,  0.0197, -0.0341],\n",
       "        ...,\n",
       "        [-0.0423,  0.0084,  0.0054,  ...,  0.0101,  0.0260, -0.0191],\n",
       "        [-0.0254, -0.0435,  0.0485,  ..., -0.0017, -0.0181, -0.0448],\n",
       "        [ 0.0294, -0.0219, -0.0416,  ..., -0.0098, -0.0168, -0.0388]],\n",
       "       device='cuda:0', requires_grad=True)"
      ]
     },
     "execution_count": 304,
     "metadata": {},
     "output_type": "execute_result"
    }
   ],
   "source": [
    "nn.init.kaiming_normal_(learn.model[0].encoder.p_matrix_as_embeddings.weight)"
   ]
  },
  {
   "cell_type": "code",
   "execution_count": 305,
   "metadata": {},
   "outputs": [
    {
     "data": {
      "text/plain": [
       "(tensor(198983.2500, device='cuda:0', grad_fn=<AddBackward0>), tensor(4.0356))"
      ]
     },
     "execution_count": 305,
     "metadata": {},
     "output_type": "execute_result"
    }
   ],
   "source": [
    "aza_loss(preds, targs, debug=True)"
   ]
  },
  {
   "cell_type": "code",
   "execution_count": 306,
   "metadata": {},
   "outputs": [
    {
     "data": {
      "text/html": [
       "<table border=\"1\" class=\"dataframe\">\n",
       "  <thead>\n",
       "    <tr style=\"text-align: left;\">\n",
       "      <th>epoch</th>\n",
       "      <th>train_loss</th>\n",
       "      <th>valid_loss</th>\n",
       "      <th>accuracy</th>\n",
       "      <th>perplexity</th>\n",
       "      <th>time</th>\n",
       "    </tr>\n",
       "  </thead>\n",
       "  <tbody>\n",
       "    <tr>\n",
       "      <td>0</td>\n",
       "      <td>172.963409</td>\n",
       "      <td>127.938080</td>\n",
       "      <td>0.196181</td>\n",
       "      <td>inf</td>\n",
       "      <td>00:10</td>\n",
       "    </tr>\n",
       "    <tr>\n",
       "      <td>1</td>\n",
       "      <td>26.927685</td>\n",
       "      <td>15.854390</td>\n",
       "      <td>0.206576</td>\n",
       "      <td>7681997.500000</td>\n",
       "      <td>00:10</td>\n",
       "    </tr>\n",
       "    <tr>\n",
       "      <td>2</td>\n",
       "      <td>5.131521</td>\n",
       "      <td>4.866365</td>\n",
       "      <td>0.212609</td>\n",
       "      <td>129.848114</td>\n",
       "      <td>00:10</td>\n",
       "    </tr>\n",
       "    <tr>\n",
       "      <td>3</td>\n",
       "      <td>4.567665</td>\n",
       "      <td>4.613162</td>\n",
       "      <td>0.218815</td>\n",
       "      <td>100.802391</td>\n",
       "      <td>00:10</td>\n",
       "    </tr>\n",
       "    <tr>\n",
       "      <td>4</td>\n",
       "      <td>4.448627</td>\n",
       "      <td>4.483438</td>\n",
       "      <td>0.224674</td>\n",
       "      <td>88.538589</td>\n",
       "      <td>00:10</td>\n",
       "    </tr>\n",
       "    <tr>\n",
       "      <td>5</td>\n",
       "      <td>4.416282</td>\n",
       "      <td>4.451097</td>\n",
       "      <td>0.229340</td>\n",
       "      <td>85.720970</td>\n",
       "      <td>00:10</td>\n",
       "    </tr>\n",
       "    <tr>\n",
       "      <td>6</td>\n",
       "      <td>4.351192</td>\n",
       "      <td>4.412767</td>\n",
       "      <td>0.234418</td>\n",
       "      <td>82.497452</td>\n",
       "      <td>00:10</td>\n",
       "    </tr>\n",
       "    <tr>\n",
       "      <td>7</td>\n",
       "      <td>4.309026</td>\n",
       "      <td>4.392875</td>\n",
       "      <td>0.234180</td>\n",
       "      <td>80.872574</td>\n",
       "      <td>00:09</td>\n",
       "    </tr>\n",
       "    <tr>\n",
       "      <td>8</td>\n",
       "      <td>4.315354</td>\n",
       "      <td>4.389675</td>\n",
       "      <td>0.234896</td>\n",
       "      <td>80.614189</td>\n",
       "      <td>00:10</td>\n",
       "    </tr>\n",
       "    <tr>\n",
       "      <td>9</td>\n",
       "      <td>4.311879</td>\n",
       "      <td>4.373653</td>\n",
       "      <td>0.237630</td>\n",
       "      <td>79.332939</td>\n",
       "      <td>00:10</td>\n",
       "    </tr>\n",
       "    <tr>\n",
       "      <td>10</td>\n",
       "      <td>4.279721</td>\n",
       "      <td>4.357096</td>\n",
       "      <td>0.239323</td>\n",
       "      <td>78.030182</td>\n",
       "      <td>00:10</td>\n",
       "    </tr>\n",
       "    <tr>\n",
       "      <td>11</td>\n",
       "      <td>4.246559</td>\n",
       "      <td>4.351618</td>\n",
       "      <td>0.239605</td>\n",
       "      <td>77.603951</td>\n",
       "      <td>00:10</td>\n",
       "    </tr>\n",
       "    <tr>\n",
       "      <td>12</td>\n",
       "      <td>4.234290</td>\n",
       "      <td>4.349574</td>\n",
       "      <td>0.241319</td>\n",
       "      <td>77.445435</td>\n",
       "      <td>00:10</td>\n",
       "    </tr>\n",
       "    <tr>\n",
       "      <td>13</td>\n",
       "      <td>4.243062</td>\n",
       "      <td>4.339016</td>\n",
       "      <td>0.242144</td>\n",
       "      <td>76.632133</td>\n",
       "      <td>00:10</td>\n",
       "    </tr>\n",
       "    <tr>\n",
       "      <td>14</td>\n",
       "      <td>4.221069</td>\n",
       "      <td>4.333630</td>\n",
       "      <td>0.241688</td>\n",
       "      <td>76.220474</td>\n",
       "      <td>00:10</td>\n",
       "    </tr>\n",
       "  </tbody>\n",
       "</table>"
      ],
      "text/plain": [
       "<IPython.core.display.HTML object>"
      ]
     },
     "metadata": {},
     "output_type": "display_data"
    }
   ],
   "source": [
    "learn.fit(15, 1e-4)"
   ]
  },
  {
   "cell_type": "code",
   "execution_count": 307,
   "metadata": {},
   "outputs": [],
   "source": [
    "learn.save('pLSTM_mixer_15epochs_permute_embeddings')"
   ]
  },
  {
   "cell_type": "code",
   "execution_count": 310,
   "metadata": {},
   "outputs": [],
   "source": [
    "def hitInTopN(n=1, how_many=None, prints=True):\n",
    "    data = learn.model[0].encoder.p_matrix_as_embeddings.weight.argsort(descending=True)[10:10+how_many, :n]\n",
    "    hits = torch.any(data == torch.arange(10, how_many+10).reshape(-1,1).cuda(), -1)\n",
    "    return hits.float().mean().item()"
   ]
  },
  {
   "cell_type": "code",
   "execution_count": 311,
   "metadata": {},
   "outputs": [
    {
     "data": {
      "text/plain": [
       "(0.7400000095367432, 1.0)"
      ]
     },
     "execution_count": 311,
     "metadata": {},
     "output_type": "execute_result"
    }
   ],
   "source": [
    "hitInTopN(1, 100), hitInTopN(5, 100)"
   ]
  },
  {
   "cell_type": "code",
   "execution_count": 312,
   "metadata": {},
   "outputs": [],
   "source": [
    "acc1 = [(x, hitInTopN(1, x)) for x in range(50,1500,200)]\n",
    "acc2 = [(x, hitInTopN(2, x)) for x in range(50,1500,200)]\n",
    "acc3 = [(x, hitInTopN(3, x)) for x in range(50,1500,200)]\n",
    "acc5 = [(x, hitInTopN(5, x)) for x in range(50,1500,200)]\n",
    "acc10 = [(x, hitInTopN(10, x)) for x in range(50,1500,200)]"
   ]
  },
  {
   "cell_type": "code",
   "execution_count": 313,
   "metadata": {},
   "outputs": [
    {
     "data": {
      "text/plain": [
       "<matplotlib.legend.Legend at 0x7f06d9991a90>"
      ]
     },
     "execution_count": 313,
     "metadata": {},
     "output_type": "execute_result"
    },
    {
     "data": {
      "image/png": "[encoded data removed]",
      "text/plain": [
       "<Figure size 1080x720 with 1 Axes>"
      ]
     },
     "metadata": {
      "needs_background": "light"
     },
     "output_type": "display_data"
    }
   ],
   "source": [
    "plt.figure(figsize=(15,10))\n",
    "plt.plot(*zip(*acc1))\n",
    "plt.plot(*zip(*acc2))\n",
    "plt.plot(*zip(*acc3))\n",
    "plt.plot(*zip(*acc5))\n",
    "plt.plot(*zip(*acc10))\n",
    "plt.legend([f'acc @ {x}' for x in [1,2,3,5,10]])"
   ]
  },
  {
   "cell_type": "code",
   "execution_count": 317,
   "metadata": {},
   "outputs": [
    {
     "name": "stdout",
     "output_type": "stream",
     "text": [
      "actual word\t\tpredictions\n",
      "\n",
      "would\t\t['would', 'could', 'should', 'must', 'shall']\n",
      "then\t\t['then', 'presently', 'however', 'but', 'though']\n",
      "we\t\t['we', 'i', 'you', 'they', 'she']\n",
      "my\t\t['my', 'your', 'you', '-', 'tinker']\n",
      "what\t\t['what', 'who', 'that', 'why', '?']\n",
      "up\t\t['up', 'out', 'down', 'away', 'on']\n",
      "from\t\t['from', 'at', 'upon', 'into', 'in']\n",
      "which\t\t['which', 'who', 'there', 'if', 'that']\n",
      "out\t\t['out', 'up', 'down', 'away', 'forth']\n",
      "me\t\t['me', 'us', 'ai', 'anything', 'him']\n",
      "one\t\t['one', 'this', 'copies', 'two', 'an']\n",
      "if\t\t['when', 'if', 'although', 'unless', 'must']\n",
      "now\t\t['now', 'oh', 'but', 'however', 'then']\n",
      "when\t\t['when', 'whether', 'if', 'which', ':']\n",
      "them\t\t['him', 'them', 'himself', 'us', 'it']\n",
      "or\t\t['or', 'and', 'nor', 'which', 'chapter']\n",
      "could\t\t['would', 'could', 'wo', 'should', 'might']\n",
      "been\t\t['been', \"'re\", 'be', 'were', 'was']\n",
      "are\t\t['is', 'are', 'am', 'was', \"'s\"]\n",
      "an\t\t['an', 'the', 'your', 'a', 'project']\n"
     ]
    }
   ],
   "source": [
    "data = learn.model[0].encoder.p_matrix_as_embeddings.weight.argsort(descending=True)[:, :5]\n",
    "print('actual word\\t\\tpredictions\\n')\n",
    "for i in range(60, 80):\n",
    "    print(f'{learn.dbunch.vocab[i]}\\t\\t{[learn.dbunch.vocab[idx] for idx in data[i]]}')"
   ]
  }
 ],
 "metadata": {
  "kernelspec": {
   "display_name": "Python 3",
   "language": "python",
   "name": "python3"
  },
  "language_info": {
   "codemirror_mode": {
    "name": "ipython",
    "version": 3
   },
   "file_extension": ".py",
   "mimetype": "text/x-python",
   "name": "python",
   "nbconvert_exporter": "python",
   "pygments_lexer": "ipython3",
   "version": "3.7.5"
  }
 },
 "nbformat": 4,
 "nbformat_minor": 2
}
